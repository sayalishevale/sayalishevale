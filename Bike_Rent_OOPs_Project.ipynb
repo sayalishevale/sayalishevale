{
  "cells": [
    {
      "cell_type": "markdown",
      "metadata": {
        "id": "view-in-github",
        "colab_type": "text"
      },
      "source": [
        "<a href=\"https://colab.research.google.com/github/sayalishevale/sayalishevale/blob/main/Bike_Rent_OOPs_Project.ipynb\" target=\"_parent\"><img src=\"https://colab.research.google.com/assets/colab-badge.svg\" alt=\"Open In Colab\"/></a>"
      ]
    },
    {
      "cell_type": "markdown",
      "id": "303d18ca",
      "metadata": {
        "id": "303d18ca"
      },
      "source": [
        "## OOP project"
      ]
    },
    {
      "cell_type": "markdown",
      "id": "5cada111",
      "metadata": {
        "id": "5cada111"
      },
      "source": [
        "A Bike Rental System\n",
        "\n",
        "A full fledged bike rental system implemented in Python using object oriented programming.\n",
        "\n",
        "Customers can see available bikes on the shop.\n",
        "Rent bikes on daily basis Rs.100 per day.\n",
        "Rent bikes on weekly basis Rs.500 per week.\n",
        "Family Rental, a promotion that can include from 3 to 5 Rentals (of any type) with a discount of 30% of the total price.\n",
        "\n",
        "The bike rental shop can issue a bill when customer decides to return the bike,\n",
        "display available inventory ,take requests on daily and weekly basis by cross verifying stock.\n",
        "\n",
        "For simplicity we assume that\n",
        "Any customer requests rentals of only one type i.e daily or weekly and is free to choose the number of bikes he/she wants.\n",
        "Requested bikes should be less than available stock."
      ]
    },
    {
      "cell_type": "code",
      "execution_count": null,
      "id": "81b2891a",
      "metadata": {
        "id": "81b2891a"
      },
      "outputs": [],
      "source": []
    },
    {
      "cell_type": "markdown",
      "id": "abae9162",
      "metadata": {
        "id": "abae9162"
      },
      "source": [
        "## Step 1\n",
        "\n",
        "Create a parent class `BikeRental`. Define `stock` as `class attribute` and assign value 100 to it.\n",
        "\n",
        "This class should not take any other attribute and when the object is created, it should display the message \"Welcome to rental bike shop.\"\n",
        "\n",
        "Define a method `displaystock` inside this class and when this method is called, it should display the total number of stock available."
      ]
    },
    {
      "cell_type": "code",
      "execution_count": null,
      "id": "8816e06c",
      "metadata": {
        "id": "8816e06c"
      },
      "outputs": [],
      "source": [
        "class BikeRental:\n",
        "  stock=100\n",
        "  def __init__(self):\n",
        "    print(\"Welcome to rental bike shop.\")\n",
        "\n",
        "  def displaystock(self):\n",
        "    print(BikeRental.stock)\n",
        "\n",
        "\n"
      ]
    },
    {
      "cell_type": "markdown",
      "id": "2ca3fb5c",
      "metadata": {
        "id": "2ca3fb5c"
      },
      "source": [
        "Create an object `bike_shop` of above class."
      ]
    },
    {
      "cell_type": "code",
      "execution_count": null,
      "id": "5184fc96",
      "metadata": {
        "colab": {
          "base_uri": "https://localhost:8080/"
        },
        "id": "5184fc96",
        "outputId": "1fcac23b-b6c9-418b-8622-d9bd85814ad6"
      },
      "outputs": [
        {
          "output_type": "stream",
          "name": "stdout",
          "text": [
            "Welcome to rental bike shop.\n"
          ]
        }
      ],
      "source": [
        "bike_shop =BikeRental()"
      ]
    },
    {
      "cell_type": "code",
      "execution_count": null,
      "id": "ef59df60",
      "metadata": {
        "colab": {
          "base_uri": "https://localhost:8080/"
        },
        "id": "ef59df60",
        "outputId": "e64a3e9c-2b22-49fd-b2d3-79446eae0dfd"
      },
      "outputs": [
        {
          "output_type": "stream",
          "name": "stdout",
          "text": [
            "100\n"
          ]
        }
      ],
      "source": [
        "bike_shop.displaystock()"
      ]
    },
    {
      "cell_type": "markdown",
      "id": "73d006a8",
      "metadata": {
        "id": "73d006a8"
      },
      "source": [
        "Check if above created object can access the `class attribute` `stock`."
      ]
    },
    {
      "cell_type": "code",
      "execution_count": null,
      "id": "a96da206",
      "metadata": {
        "scrolled": true,
        "colab": {
          "base_uri": "https://localhost:8080/"
        },
        "id": "a96da206",
        "outputId": "926f214d-1f6c-44a9-d36c-d32c75dc4d68"
      },
      "outputs": [
        {
          "output_type": "stream",
          "name": "stdout",
          "text": [
            "Welcome to rental bike shop.\n"
          ]
        }
      ],
      "source": [
        "bike_shop=BikeRental()"
      ]
    },
    {
      "cell_type": "code",
      "execution_count": null,
      "id": "4460bd03",
      "metadata": {
        "colab": {
          "base_uri": "https://localhost:8080/"
        },
        "id": "4460bd03",
        "outputId": "e4474654-31b8-46f8-e5f6-06d2b8b6506e"
      },
      "outputs": [
        {
          "output_type": "stream",
          "name": "stdout",
          "text": [
            "100\n"
          ]
        }
      ],
      "source": [
        "bike_shop.displaystock()"
      ]
    },
    {
      "cell_type": "markdown",
      "id": "a702f97d",
      "metadata": {
        "id": "a702f97d"
      },
      "source": [
        "Call the method `displaystock` using above created object `bike_shop`."
      ]
    },
    {
      "cell_type": "code",
      "execution_count": null,
      "id": "c4dc35b0",
      "metadata": {
        "id": "c4dc35b0"
      },
      "outputs": [],
      "source": [
        "displaystock=bike_shop"
      ]
    },
    {
      "cell_type": "code",
      "execution_count": null,
      "id": "6a859671",
      "metadata": {
        "id": "6a859671"
      },
      "outputs": [],
      "source": []
    },
    {
      "cell_type": "markdown",
      "id": "d3a33de1",
      "metadata": {
        "id": "d3a33de1"
      },
      "source": [
        "## Step 2\n",
        "\n",
        "Create a derived class `Customer` to inherit the methods from `BikeRental` class.\n",
        "Define `bill` as `class attribute`and set it's initial value as zero.\n",
        "\n",
        "This class has `number_of_bikes`, `rentalBasis` (daily or weekly) and `number_of_days_or_weeks` as attributes."
      ]
    },
    {
      "cell_type": "code",
      "execution_count": null,
      "id": "50196270",
      "metadata": {
        "id": "50196270"
      },
      "outputs": [],
      "source": [
        "class customer(BikeRental):\n",
        "  bill=0\n",
        "  def __init__(self,number_of_bikes,number_of_days_or_weeks,rentalBasis):\n",
        "    self.number_of_bikes=number_of_bikes\n",
        "    self.number_of_days_or_weeks=number_of_days_or_weeks\n",
        "    self.rentalBasis=rentalBasis"
      ]
    },
    {
      "cell_type": "code",
      "execution_count": null,
      "id": "363883ea",
      "metadata": {
        "id": "363883ea"
      },
      "outputs": [],
      "source": []
    },
    {
      "cell_type": "markdown",
      "id": "98a400fe",
      "metadata": {
        "id": "98a400fe"
      },
      "source": [
        "Define a function `rentBike`, it should have following conditions:\n",
        "\n",
        "- if `number_of_bikes` is less than or equal to zero, it should display the message \"Number of bikes should be positive!\".\n",
        "\n",
        "- if `number_of_bikes` is greater than the `stock`, it should display the `number_of_bikes` available to rent.\n",
        "\n",
        "- Otherwise display the total `number_of_bikes` rented by the customer. Do not forget to update the value of `stock` i.e. subtract the `number_of_bikes` rented from stock and display the updated `stock`."
      ]
    },
    {
      "cell_type": "code",
      "execution_count": null,
      "id": "0f15d993",
      "metadata": {
        "id": "0f15d993"
      },
      "outputs": [],
      "source": [
        "def rentBike(self):\n",
        "  if self.number_of_bikes<=0:\n",
        "    print(\"Number of bikes should be positive!\")\n",
        "\n",
        "  elif self.number_of_bikes > self.stock:\n",
        "      print(\"number_of_bikes available on rent = \",self.stocks-self.number_of_bikes)\n",
        "  else:\n",
        "    print(\"total number_of_bikes rented by the customer\")\n",
        "    self.stocks-=self.number_of_bikes\n",
        "    print(self.stocks)\n",
        "\n",
        "\n",
        "\n",
        "\n"
      ]
    },
    {
      "cell_type": "code",
      "execution_count": null,
      "id": "e66fb261",
      "metadata": {
        "id": "e66fb261"
      },
      "outputs": [],
      "source": []
    },
    {
      "cell_type": "markdown",
      "id": "cb22ec0f",
      "metadata": {
        "id": "cb22ec0f"
      },
      "source": [
        "Define a function `returnBike` to return the total bill of customer.\n",
        "- Check if `rentalBasis` is ' daily ' or ' weekly ' and accordingly calculate the bill. Rent on ' daily ' basis is Rs. 100 per bike and for ' weekly ' basis it is Rs. 500 per bike.\n",
        "\n",
        "- If `number_of_bikes` rented by customer is between 3 to 5 (both values inclusive), 30% discount is offered on total bill. So it should display the message \"You are eligible for Family rental promotion of 30% discount\"."
      ]
    },
    {
      "cell_type": "code",
      "execution_count": null,
      "id": "48be1e59",
      "metadata": {
        "id": "48be1e59"
      },
      "outputs": [],
      "source": [
        "def returnBike(self):\n",
        "  if self.rentalBasis=='daily':\n",
        "    self.number_of_bikes*100\n",
        "  elif self.rentalBasis=='weekly':\n",
        "    self.number_of_bikes*500\n",
        "  elif self.number_of_bikes (3) ==self.number_of_bikes (5):\n",
        "    print(\"You are eligible for Family rental promotion of 30% discount\")\n",
        "\n",
        "\n",
        "\n",
        "\n",
        "\n",
        "\n"
      ]
    },
    {
      "cell_type": "code",
      "execution_count": null,
      "id": "29935c98",
      "metadata": {
        "id": "29935c98"
      },
      "outputs": [],
      "source": []
    },
    {
      "cell_type": "markdown",
      "id": "fa66397a",
      "metadata": {
        "id": "fa66397a"
      },
      "source": [
        "## Step 3\n",
        "\n",
        "Write complete `Customer` class using above defined functions `returnBike` and `rentBike` inside it as methods."
      ]
    },
    {
      "cell_type": "code",
      "execution_count": null,
      "id": "e1c7c3f5",
      "metadata": {
        "id": "e1c7c3f5",
        "colab": {
          "base_uri": "https://localhost:8080/"
        },
        "outputId": "11676530-ffa1-487c-950a-4b97303d105c"
      },
      "outputs": [
        {
          "output_type": "stream",
          "name": "stdout",
          "text": [
            "total number_of_bikes rented by the customer\n",
            "98\n"
          ]
        }
      ],
      "source": [
        "class customer(BikeRental):\n",
        "  bill=0\n",
        "  def __init__(self,number_of_bikes,number_of_days_or_weeks,rentalBasis):\n",
        "    self.number_of_bikes=number_of_bikes\n",
        "    self.number_of_days_or_weeks=number_of_days_or_weeks\n",
        "    self.rentalBasis=rentalBasis\n",
        "\n",
        "  def rentBike(self):\n",
        "\n",
        "      if self.number_of_bikes<=0:\n",
        "        print(\"Number of bikes should be positive!\")\n",
        "\n",
        "      elif self.number_of_bikes > BikeRental.stock:\n",
        "          print(\"number_of_bikes available on rent = \",BikeRental.stock-self.number_of_bikes)\n",
        "      else:\n",
        "        print(\"total number_of_bikes rented by the customer\")\n",
        "        BikeRental.stock-=self.number_of_bikes\n",
        "        print(BikeRental.stock)\n",
        "\n",
        "  def returnBike(self):\n",
        "      if self.rentalBasis=='daily':\n",
        "        self.number_of_bikes*100\n",
        "      elif self.rentalBasis=='weekly':\n",
        "        self.number_of_bikes*500\n",
        "      elif self.number_of_bikes==3 or self.number_of_bikes==5:\n",
        "        print(\"You are eligible for Family rental promotion of 30% discount\")\n",
        "customer_1 = customer(2,'day',5)\n",
        "customer_1.rentBike()\n",
        "\n",
        "\n",
        "\n",
        "\n",
        "\n",
        "\n",
        "\n",
        "\n",
        "\n",
        "\n",
        "\n",
        "\n",
        "\n",
        "\n",
        "\n"
      ]
    },
    {
      "cell_type": "code",
      "execution_count": null,
      "id": "b8753564",
      "metadata": {
        "id": "b8753564",
        "colab": {
          "base_uri": "https://localhost:8080/"
        },
        "outputId": "dd386fce-8661-4078-d582-2d356af8917b"
      },
      "outputs": [
        {
          "output_type": "stream",
          "name": "stdout",
          "text": [
            "total number_of_bikes rented by the customer\n",
            "95\n"
          ]
        }
      ],
      "source": [
        "customer_2 = customer(1,'week',3)\n",
        "customer_2.rentBike()\n"
      ]
    },
    {
      "cell_type": "code",
      "source": [
        "customer_3 = customer(4,'day',3)\n",
        "customer_3.rentBike()\n"
      ],
      "metadata": {
        "colab": {
          "base_uri": "https://localhost:8080/"
        },
        "id": "AlToCtHqkWcb",
        "outputId": "6ab692d3-f0fb-4601-ca5d-294aa6b79ac6"
      },
      "id": "AlToCtHqkWcb",
      "execution_count": null,
      "outputs": [
        {
          "output_type": "stream",
          "name": "stdout",
          "text": [
            "total number_of_bikes rented by the customer\n",
            "91\n"
          ]
        }
      ]
    },
    {
      "cell_type": "code",
      "source": [
        "customer_4 = customer(3,'week',3)\n",
        "customer_4.rentBike()"
      ],
      "metadata": {
        "colab": {
          "base_uri": "https://localhost:8080/"
        },
        "id": "Ymv-LlAFkVrH",
        "outputId": "d9cb65fb-0c08-4214-8300-1c88c68be7f5"
      },
      "id": "Ymv-LlAFkVrH",
      "execution_count": null,
      "outputs": [
        {
          "output_type": "stream",
          "name": "stdout",
          "text": [
            "total number_of_bikes rented by the customer\n",
            "88\n"
          ]
        }
      ]
    },
    {
      "cell_type": "code",
      "source": [
        "customer_5 = customer(120,'week',3)\n",
        "customer_5.rentBike()"
      ],
      "metadata": {
        "colab": {
          "base_uri": "https://localhost:8080/"
        },
        "id": "l_hmxldnk3iN",
        "outputId": "936ca629-1fd8-4aac-ec30-d67d16c00548"
      },
      "id": "l_hmxldnk3iN",
      "execution_count": null,
      "outputs": [
        {
          "output_type": "stream",
          "name": "stdout",
          "text": [
            "number_of_bikes available on rent =  -32\n"
          ]
        }
      ]
    },
    {
      "cell_type": "code",
      "source": [
        "customer_6 = customer(0,'week',3)\n",
        "customer_6.rentBike()"
      ],
      "metadata": {
        "colab": {
          "base_uri": "https://localhost:8080/"
        },
        "id": "xXrmwVCylBP0",
        "outputId": "8428e421-2418-4f19-d9df-e42ec49ea1e8"
      },
      "id": "xXrmwVCylBP0",
      "execution_count": null,
      "outputs": [
        {
          "output_type": "stream",
          "name": "stdout",
          "text": [
            "Number of bikes should be positive!\n"
          ]
        }
      ]
    },
    {
      "cell_type": "code",
      "source": [
        "customer_7 = customer(-5,'week',3)\n",
        "customer_7.rentBike()"
      ],
      "metadata": {
        "colab": {
          "base_uri": "https://localhost:8080/"
        },
        "id": "EwX5sEodlTPf",
        "outputId": "efd65f1f-7bb0-4552-cd7b-cf32d913abed"
      },
      "id": "EwX5sEodlTPf",
      "execution_count": null,
      "outputs": [
        {
          "output_type": "stream",
          "name": "stdout",
          "text": [
            "Number of bikes should be positive!\n"
          ]
        }
      ]
    },
    {
      "cell_type": "code",
      "source": [
        "customer_8 = customer(1,'day',3)\n",
        "customer_8.rentBike()"
      ],
      "metadata": {
        "colab": {
          "base_uri": "https://localhost:8080/"
        },
        "id": "JkEnb765l7hX",
        "outputId": "8dcad289-112b-43d6-f19a-c9a76cdff624"
      },
      "id": "JkEnb765l7hX",
      "execution_count": null,
      "outputs": [
        {
          "output_type": "stream",
          "name": "stdout",
          "text": [
            "total number_of_bikes rented by the customer\n",
            "87\n"
          ]
        }
      ]
    },
    {
      "cell_type": "markdown",
      "id": "dea7483f",
      "metadata": {
        "id": "dea7483f"
      },
      "source": [
        "## Step 4\n",
        "\n",
        "Check your `Bike Rental System` for test-case objects given below :\n",
        "\n",
        "For first four customers - check all the three attribute values and call `rentBike` and `returnBike` methods.\n",
        "\n",
        "- customer_1 = Customer(2,'day',5)\n",
        "\n",
        "- customer_2 = Customer(1,'week',3)\n",
        "\n",
        "- customer_3 = Customer(4,'day',3)  - Is family discount applicable here ?\n",
        "\n",
        "- customer_4 = Customer(3,'week',3) - Is family discount applicable here ?\n",
        "\n",
        "Call `rentBike` and `displaystock` methods for test-case objects given below :\n",
        "\n",
        "- customer_5 = Customer(120,'week',3)\n",
        "\n",
        "- customer_6 = Customer(0,'week',3)\n",
        "\n",
        "- customer_7 = Customer(-5,'week',3)\n",
        "\n",
        "- customer_8 = Customer(1,'day',3)"
      ]
    },
    {
      "cell_type": "code",
      "execution_count": null,
      "id": "40d0a7aa",
      "metadata": {
        "id": "40d0a7aa"
      },
      "outputs": [],
      "source": [
        "## your code goes here ##"
      ]
    }
  ],
  "metadata": {
    "kernelspec": {
      "display_name": "Python 3",
      "language": "python",
      "name": "python3"
    },
    "language_info": {
      "codemirror_mode": {
        "name": "ipython",
        "version": 3
      },
      "file_extension": ".py",
      "mimetype": "text/x-python",
      "name": "python",
      "nbconvert_exporter": "python",
      "pygments_lexer": "ipython3",
      "version": "3.8.8"
    },
    "colab": {
      "provenance": [],
      "include_colab_link": true
    }
  },
  "nbformat": 4,
  "nbformat_minor": 5
}