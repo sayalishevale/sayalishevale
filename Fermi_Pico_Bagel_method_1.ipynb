{
  "cells": [
    {
      "cell_type": "markdown",
      "metadata": {
        "id": "view-in-github",
        "colab_type": "text"
      },
      "source": [
        "<a href=\"https://colab.research.google.com/github/sayalishevale/sayalishevale/blob/main/Fermi_Pico_Bagel_method_1.ipynb\" target=\"_parent\"><img src=\"https://colab.research.google.com/assets/colab-badge.svg\" alt=\"Open In Colab\"/></a>"
      ]
    },
    {
      "cell_type": "markdown",
      "id": "0b55c9a8",
      "metadata": {
        "id": "0b55c9a8"
      },
      "source": [
        "## Fermi Pico Bagel\n",
        "Try playing game and understand the rules : https://communicrossings.com/html/js/pfb.htm\n",
        "\n",
        "## Step 1\n",
        "Store any number in string format(number to be guessed by player) in a variable `original_number`.\n",
        "\n",
        "For Example: original_number = '123'\n"
      ]
    },
    {
      "cell_type": "code",
      "execution_count": null,
      "id": "57a0a2d0",
      "metadata": {
        "id": "57a0a2d0"
      },
      "outputs": [],
      "source": [
        "original_number='123'"
      ]
    },
    {
      "cell_type": "markdown",
      "id": "fd43340c",
      "metadata": {
        "id": "fd43340c"
      },
      "source": [
        "## Step 2\n",
        "Take a number as user input and save it in a variable `guess_number`.(Make sure that the datatype of guess_number is same as of original number i.e- `str`)"
      ]
    },
    {
      "cell_type": "code",
      "execution_count": null,
      "id": "2e0075a7",
      "metadata": {
        "colab": {
          "base_uri": "https://localhost:8080/"
        },
        "id": "2e0075a7",
        "outputId": "793331c9-ae43-4b59-80a6-462c00080b59"
      },
      "outputs": [
        {
          "name": "stdout",
          "output_type": "stream",
          "text": [
            "Enter the input231\n"
          ]
        }
      ],
      "source": [
        "guess_number=input(\"Enter the input\")"
      ]
    },
    {
      "cell_type": "markdown",
      "id": "22318243",
      "metadata": {
        "id": "22318243"
      },
      "source": [
        "## Step 3\n",
        "Check if total number of digits in `original_number` and `guess_number` is not same(Use `len()` function) then ask user for valid input.(First use `len()` to get total digits in `original_number` and `guess_number`.)"
      ]
    },
    {
      "cell_type": "code",
      "execution_count": null,
      "id": "258e2971",
      "metadata": {
        "id": "258e2971"
      },
      "outputs": [],
      "source": [
        "total_digits=3\n",
        "if len(original_number)!=len(guess_number):\n",
        "  print('length not match')\n",
        "\n",
        "\n",
        "\n",
        "\n",
        "\n"
      ]
    },
    {
      "cell_type": "markdown",
      "id": "0c064bda",
      "metadata": {
        "id": "0c064bda"
      },
      "source": [
        "## Step 4\n",
        "Using `set()`, check if the digits are repeated in a `guess_number` .\n",
        "Note that datatype `set` allows unique values only.\n",
        "\n",
        "For ex. if `user_input`is 122, then it should print the string 'Duplicate number'  as digit 2 is repeated."
      ]
    },
    {
      "cell_type": "code",
      "execution_count": null,
      "id": "7b5ef10d",
      "metadata": {
        "id": "7b5ef10d"
      },
      "outputs": [],
      "source": [
        "if len(set(guess_number))!=len(original_number):\n",
        "  print('Duplicate number')"
      ]
    },
    {
      "cell_type": "markdown",
      "id": "0514b8d9",
      "metadata": {
        "id": "0514b8d9"
      },
      "source": [
        "## Step 5\n",
        "Check winning condition i.e. if both `guess_number` and `original_number` are same, then print 'Fermi' as many number of times as number of digits in a number and print ' You win !! '.\n"
      ]
    },
    {
      "cell_type": "code",
      "execution_count": null,
      "id": "ab9379a5",
      "metadata": {
        "id": "ab9379a5"
      },
      "outputs": [],
      "source": [
        "if (guess_number)==(original_number):\n",
        "  print('fermi'*len(original_number))\n",
        "  print('You win')"
      ]
    },
    {
      "cell_type": "markdown",
      "id": "96eca378",
      "metadata": {
        "id": "96eca378"
      },
      "source": [
        "## Step 6\n",
        "Create empty list called `output` where we will store the output in the form of list.\n",
        "\n",
        "For example: output = [ ' Fermi ', ' Pico ' ,' Pico ' ] ."
      ]
    },
    {
      "cell_type": "code",
      "execution_count": null,
      "id": "c047a839",
      "metadata": {
        "id": "c047a839"
      },
      "outputs": [],
      "source": [
        "output=[]"
      ]
    },
    {
      "cell_type": "markdown",
      "id": "4949309d",
      "metadata": {
        "id": "4949309d"
      },
      "source": [
        "## Step 7\n",
        "Check if any digit and it's position in both `guess_number` and `original_number` are same then append 'Fermi' to `output` list or if only digit matches and not the position then append 'Pico' to `output`.\n"
      ]
    },
    {
      "cell_type": "code",
      "execution_count": null,
      "id": "7dbe3800",
      "metadata": {
        "colab": {
          "base_uri": "https://localhost:8080/"
        },
        "id": "7dbe3800",
        "outputId": "cde6134c-2cca-4933-b9c3-9fdc96d39fdb"
      },
      "outputs": [
        {
          "output_type": "stream",
          "name": "stdout",
          "text": [
            "['Pico', 'Pico']\n"
          ]
        }
      ],
      "source": [
        "for i in range (len(original_number)):\n",
        "  if original_number[i]==guess_number[i]:\n",
        "    output.append('Fermi')\n",
        "  elif original_number[i] in guess_number:\n",
        "    output.append('Pico')\n",
        "print(output)\n",
        "\n",
        "\n",
        "\n",
        "\n",
        "\n",
        "\n",
        "\n"
      ]
    },
    {
      "cell_type": "markdown",
      "id": "59e62457",
      "metadata": {
        "id": "59e62457"
      },
      "source": [
        "## Step 8\n",
        "Define a variable called `output_string` which has all values from a list `output` with each value separated by space. (Use 'for' loop to get all the values from a list `output`.)"
      ]
    },
    {
      "cell_type": "code",
      "execution_count": null,
      "id": "d15c8f60",
      "metadata": {
        "colab": {
          "base_uri": "https://localhost:8080/"
        },
        "id": "d15c8f60",
        "outputId": "48a725d9-8da2-41a5-d7ea-f170957efc92"
      },
      "outputs": [
        {
          "output_type": "stream",
          "name": "stdout",
          "text": [
            "PicoPico\n"
          ]
        }
      ],
      "source": [
        "output_string=''\n",
        "for i in output:\n",
        "  output_string=i+output_string\n",
        "print(output_string)"
      ]
    },
    {
      "cell_type": "markdown",
      "id": "f3f50bef",
      "metadata": {
        "id": "f3f50bef"
      },
      "source": [
        "## Step 9\n",
        "Check if neither any digit nor any position matches i.e. if length of `output` list is zero then print `Bagel`.\n",
        "\n",
        "Otherwise print `output_string`."
      ]
    },
    {
      "cell_type": "code",
      "execution_count": null,
      "id": "3c568356",
      "metadata": {
        "colab": {
          "base_uri": "https://localhost:8080/"
        },
        "id": "3c568356",
        "outputId": "5af9308a-9b49-4bf7-d095-7868349d3d7d"
      },
      "outputs": [
        {
          "output_type": "stream",
          "name": "stdout",
          "text": [
            "PicoPico\n"
          ]
        }
      ],
      "source": [
        "if len(output)==0:\n",
        "  print('Bagel')\n",
        "else:\n",
        "  print(output_string)\n",
        "\n"
      ]
    },
    {
      "cell_type": "markdown",
      "id": "9d4a684d",
      "metadata": {
        "id": "9d4a684d"
      },
      "source": [
        "## Step 10\n",
        "\n",
        "## Complete game\n",
        "Here use continue and break statements at appropriate places."
      ]
    },
    {
      "cell_type": "markdown",
      "source": [],
      "metadata": {
        "id": "Sn5Shu5YUrVT"
      },
      "id": "Sn5Shu5YUrVT"
    },
    {
      "cell_type": "code",
      "execution_count": null,
      "id": "79843cdf",
      "metadata": {
        "colab": {
          "base_uri": "https://localhost:8080/"
        },
        "id": "79843cdf",
        "outputId": "cdabf9ff-c00c-442a-aad0-7c7d2dee1fe9"
      },
      "outputs": [
        {
          "output_type": "stream",
          "name": "stdout",
          "text": [
            "Enter the input:134\n",
            "PicoFermi\n",
            "Enter the input:456\n",
            "Bagel\n",
            "Enter the input:123\n",
            "fermifermifermi\n",
            "You win\n"
          ]
        }
      ],
      "source": [
        "original_number='123'\n",
        "\n",
        "\n",
        "## create infinite while loop\n",
        "while True:\n",
        "\n",
        "  guess_number=input(\"Enter the input:\")\n",
        "\n",
        "  if len(original_number)!=len(guess_number):\n",
        "    print('length not match')\n",
        "\n",
        "  if len(set(guess_number))!=len(original_number):\n",
        "    print('Duplicate number')\n",
        "\n",
        "  if (guess_number)==(original_number):\n",
        "    print('fermi'*len(original_number))\n",
        "    print('You win')\n",
        "    break\n",
        "  output=[]\n",
        "  for i in range (len(original_number)):\n",
        "    if original_number[i]==guess_number[i]:\n",
        "      output.append('Fermi')\n",
        "    elif original_number[i] in guess_number:\n",
        "      output.append('Pico')\n",
        "  output_string=''\n",
        "  for i in output:\n",
        "    output_string=i+output_string\n",
        "\n",
        "  if len(output)==0:\n",
        "    output_string+='Bagel'\n",
        "\n",
        "\n",
        "  print(output_string)\n",
        "\n",
        "\n",
        "\n",
        "\n",
        "\n",
        "\n",
        "\n",
        "## step 3 and step 4 (use continue statement)\n",
        "\n",
        "## step 5 (use break statement for winning condition)\n",
        "\n",
        "## step 7\n",
        "\n",
        "## step 8\n",
        "## step 9"
      ]
    },
    {
      "cell_type": "code",
      "source": [
        "import random\n",
        "num=random.random()\n",
        "print(num)"
      ],
      "metadata": {
        "id": "wv9KWiEZU4VL",
        "colab": {
          "base_uri": "https://localhost:8080/"
        },
        "outputId": "fd7d6a11-2966-4b72-8cff-65efae3b58f1"
      },
      "id": "wv9KWiEZU4VL",
      "execution_count": null,
      "outputs": [
        {
          "output_type": "stream",
          "name": "stdout",
          "text": [
            "0.3091308687235107\n"
          ]
        }
      ]
    },
    {
      "cell_type": "code",
      "source": [
        "import random\n",
        "print(random.randint(100,999))"
      ],
      "metadata": {
        "colab": {
          "base_uri": "https://localhost:8080/"
        },
        "id": "bpK3r1gmoC8e",
        "outputId": "24b9b35e-f4e6-467a-e894-79b80718c841"
      },
      "id": "bpK3r1gmoC8e",
      "execution_count": null,
      "outputs": [
        {
          "output_type": "stream",
          "name": "stdout",
          "text": [
            "578\n"
          ]
        }
      ]
    },
    {
      "cell_type": "code",
      "source": [
        "import random\n",
        "mylist=[]\n",
        "for i in range(3):\n",
        "  x=random.randint(1,10)\n",
        "  mylist.append (str(x))\n",
        "  original_number=''.join(mylist)\n",
        "print(original_number)"
      ],
      "metadata": {
        "colab": {
          "base_uri": "https://localhost:8080/"
        },
        "id": "us4l_ozSpMUP",
        "outputId": "267ba04e-43f0-48b6-f9f1-4dbde9732367"
      },
      "id": "us4l_ozSpMUP",
      "execution_count": null,
      "outputs": [
        {
          "output_type": "stream",
          "name": "stdout",
          "text": [
            "797\n"
          ]
        }
      ]
    },
    {
      "cell_type": "code",
      "source": [
        "# original_number generator\n",
        "def original_number_generator():\n",
        "  list1=['0','1','2','3','4','5','6','7','8','9']\n",
        "  x=''\n",
        "  random.shuffle(list1)\n",
        "  for i in list1[:3]:\n",
        "    x=x+i\n",
        "  return x\n",
        "original_number =original_number_generator()\n",
        "\n",
        "## create infinite while loop\n",
        "while True:\n",
        "\n",
        "  guess_number=input(\"Enter the input:\")\n",
        "\n",
        "  if len(original_number)!=len(guess_number):\n",
        "    print('length not match')\n",
        "\n",
        "  if len(set(guess_number))!=len(original_number):\n",
        "    print('Duplicate number')\n",
        "\n",
        "  if (guess_number)==(original_number):\n",
        "    print('fermi'*len(original_number))\n",
        "    print('You win')\n",
        "    break\n",
        "  output=[]\n",
        "  for i in range (len(original_number)):\n",
        "    if original_number[i]==guess_number[i]:\n",
        "      output.append('Fermi')\n",
        "    elif original_number[i] in guess_number:\n",
        "      output.append('Pico')\n",
        "  output_string=''\n",
        "  for i in output:\n",
        "    output_string=i+output_string\n",
        "\n",
        "  if len(output)==0:\n",
        "    output_string+='Bagel'\n",
        "\n",
        "\n",
        "  print(output_string)\n",
        "\n",
        "\n",
        "\n"
      ],
      "metadata": {
        "colab": {
          "base_uri": "https://localhost:8080/"
        },
        "id": "BFTRGrwUyUKB",
        "outputId": "59640cd0-169a-4790-c42d-6aba325f2ed9"
      },
      "id": "BFTRGrwUyUKB",
      "execution_count": null,
      "outputs": [
        {
          "output_type": "stream",
          "name": "stdout",
          "text": [
            "Enter the input:123\n",
            "Fermi\n",
            "Enter the input:145\n",
            "Fermi\n",
            "Enter the input:167\n",
            "PicoFermi\n",
            "Enter the input:165\n",
            "PicoFermi\n",
            "Enter the input:186\n",
            "FermiFermi\n",
            "Enter the input:196\n",
            "fermifermifermi\n",
            "You win\n"
          ]
        }
      ]
    },
    {
      "cell_type": "code",
      "source": [],
      "metadata": {
        "id": "m5SujRUm5k1s"
      },
      "id": "m5SujRUm5k1s",
      "execution_count": null,
      "outputs": []
    }
  ],
  "metadata": {
    "kernelspec": {
      "display_name": "Python 3",
      "language": "python",
      "name": "python3"
    },
    "language_info": {
      "codemirror_mode": {
        "name": "ipython",
        "version": 3
      },
      "file_extension": ".py",
      "mimetype": "text/x-python",
      "name": "python",
      "nbconvert_exporter": "python",
      "pygments_lexer": "ipython3",
      "version": "3.8.8"
    },
    "colab": {
      "provenance": [],
      "include_colab_link": true
    }
  },
  "nbformat": 4,
  "nbformat_minor": 5
}