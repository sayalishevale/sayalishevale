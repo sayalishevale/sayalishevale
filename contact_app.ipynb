{
  "cells": [
    {
      "cell_type": "markdown",
      "metadata": {
        "id": "view-in-github",
        "colab_type": "text"
      },
      "source": [
        "<a href=\"https://colab.research.google.com/github/sayalishevale/sayalishevale/blob/main/contact_app.ipynb\" target=\"_parent\"><img src=\"https://colab.research.google.com/assets/colab-badge.svg\" alt=\"Open In Colab\"/></a>"
      ]
    },
    {
      "cell_type": "markdown",
      "metadata": {
        "id": "CAO3nfzaXMdb"
      },
      "source": [
        "# Contact app\n",
        "\n",
        "You have learnt a lot of new things; data structures, string, regex & files. Lets use all our newly acquired knowledge to build a **contact app**, just like the ones in our smartphone.\n",
        "\n",
        "We will not be building a fancy UI, instead we will focus on understanding the programming logic.\n",
        "\n",
        "Lets get started!\n",
        "\n",
        "Think of all the features that your contact app has . . . !\n",
        "- It can show you all the contact names\n",
        "- You can search for contacts (using name)\n",
        "- You can see all the information associated with the contact\n",
        "- You can delete and update contacts\n",
        "\n",
        "Can you think of anything more ? Our contact app should have at least these features.\n",
        "- The app should show us all the contact names\n",
        "- It should allow us to select a contact and view all the information associated with the contact\n",
        "- It should allow us to update contact info & delete contact\n",
        "- Finally, it should show us all the contact names\n",
        "\n",
        "For every contact, we will store the `name`, `number` & `email`."
      ]
    },
    {
      "cell_type": "markdown",
      "metadata": {
        "id": "erIfK62SXMdr"
      },
      "source": [
        "### Data Structure\n",
        "The very first thing that we need to decide is \"What data structure to use?\"\n",
        "\n",
        "To store all the contacts, we can use a list of dictionaries; were each dictionary stores the `name`, `number` & `email`  of the contact.\n",
        "\n",
        "Create a list of dictionaries called `contacts` with 3 dummy contacts.  "
      ]
    },
    {
      "cell_type": "code",
      "execution_count": null,
      "metadata": {
        "id": "GXCMFK6PXMdt"
      },
      "outputs": [],
      "source": [
        "contacts=[{'name':'Sayali','number':9124468911,'email':'sayalishevale3@gmail.com'},\n",
        "          {'name': 'Ankita','number':7868799277,'email':'ankitarathod10@gmail.com'},\n",
        "          {'name':'Tejashri','number':7238990055,'email':'tejashri19@gmail.com'}]"
      ]
    },
    {
      "cell_type": "markdown",
      "metadata": {
        "id": "7quRxN_LXMdz"
      },
      "source": [
        "### List all contact names\n",
        "Write `show_contacts` function that takes the `contacts` list and prints all the contact names. These names will help us to select the contact later."
      ]
    },
    {
      "cell_type": "code",
      "execution_count": null,
      "metadata": {
        "id": "JmToNDb0XMd1"
      },
      "outputs": [],
      "source": [
        "def show_contacts(contacts):\n",
        "    print(contacts)\n",
        "# show_contacts(contacts)"
      ]
    },
    {
      "cell_type": "code",
      "execution_count": null,
      "metadata": {
        "colab": {
          "base_uri": "https://localhost:8080/"
        },
        "id": "xrBnLdpOXMd2",
        "outputId": "feb1749e-2b98-4c2c-eb1c-c149ca15a98a"
      },
      "outputs": [
        {
          "output_type": "stream",
          "name": "stdout",
          "text": [
            "[{'name': 'Sayali', 'number': 9124468911, 'email': 'sayalishevale3@gmail.com'}, {'name': 'Ankita', 'number': 7868799277, 'email': 'ankitarathod10@gmail.com'}, {'name': 'Tejashri', 'number': 7238990055, 'email': 'tejashri19@gmail.com'}]\n"
          ]
        }
      ],
      "source": [
        "show_contacts(contacts)"
      ]
    },
    {
      "cell_type": "markdown",
      "metadata": {
        "id": "2EG-YKfxXMd4"
      },
      "source": [
        "### Add a new Contact\n",
        "\n",
        "Write `add_contact` function that takes user input and *adds new contact* dictionary to the existing list of `contacts`."
      ]
    },
    {
      "cell_type": "code",
      "execution_count": null,
      "metadata": {
        "id": "4EAZ0gV9XMd5"
      },
      "outputs": [],
      "source": [
        "def add_contact(contacts):\n",
        "  new_dict={}\n",
        "  new_dict['name']=input('Enter your name:')\n",
        "  new_dict['number']=input('Enter your number:')\n",
        "  new_dict['email']=input('Enter your email:')\n",
        "  contacts.append(new_dict)\n",
        "  return (contacts)\n"
      ]
    },
    {
      "cell_type": "code",
      "execution_count": null,
      "metadata": {
        "colab": {
          "base_uri": "https://localhost:8080/"
        },
        "id": "mHoS0wjQXMd7",
        "outputId": "968c6a60-5eab-4839-b53d-dca5316e25d7"
      },
      "outputs": [
        {
          "name": "stdout",
          "output_type": "stream",
          "text": [
            "Enter your name:Nisha\n",
            "Enter your number:8756433625\n",
            "Enter your email:nisha123@gmail.com\n"
          ]
        },
        {
          "output_type": "execute_result",
          "data": {
            "text/plain": [
              "[{'name': 'Sayali', 'number': 9124468911, 'email': 'sayalishevale3@gmail.com'},\n",
              " {'name': 'Ankita', 'number': 7868799277, 'email': 'ankitarathod10@gmail.com'},\n",
              " {'name': 'Tejashri', 'number': 7238990055, 'email': 'tejashri19@gmail.com'},\n",
              " {'name': 'Nisha', 'number': '8756433625', 'email': 'nisha123@gmail.com'}]"
            ]
          },
          "metadata": {},
          "execution_count": 26
        }
      ],
      "source": [
        "add_contact(contacts)"
      ]
    },
    {
      "cell_type": "markdown",
      "metadata": {
        "id": "klgm466CXMd8"
      },
      "source": [
        "\n",
        "\n",
        "### Delete Contact\n",
        "\n",
        "Write `delete_contact` function to delete an existing contact by providing `name` of the contact which we want to delete."
      ]
    },
    {
      "cell_type": "code",
      "execution_count": null,
      "metadata": {
        "id": "lxCHxJHyXMd9"
      },
      "outputs": [],
      "source": [
        "def delete_contact(contacts, name):\n",
        "  for i in contacts:\n",
        "    if i['name']==name:\n",
        "      contacts.remove(i)\n",
        "      break\n",
        "  return contacts\n"
      ]
    },
    {
      "cell_type": "code",
      "execution_count": null,
      "metadata": {
        "colab": {
          "base_uri": "https://localhost:8080/"
        },
        "id": "J2RdVU_uXMd-",
        "outputId": "bf854e2b-7ff3-4b7b-81c3-b9860bd533c7"
      },
      "outputs": [
        {
          "output_type": "execute_result",
          "data": {
            "text/plain": [
              "[{'name': 'Sayali', 'number': 9124468911, 'email': 'sayalishevale3@gmail.com'},\n",
              " {'name': 'Ankita', 'number': 7868799277, 'email': 'ankitarathod10@gmail.com'},\n",
              " {'name': 'Tejashri', 'number': 7238990055, 'email': 'tejashri19@gmail.com'}]"
            ]
          },
          "metadata": {},
          "execution_count": 27
        }
      ],
      "source": [
        "delete_contact(contacts, 'Nisha')"
      ]
    },
    {
      "cell_type": "markdown",
      "metadata": {
        "id": "ZbLQ_nRIXMd_"
      },
      "source": [
        "### Update Contact details\n",
        "\n",
        "Let's write `update_contact` function which will *update contact details* such as `name`, `email` & `number`.\n",
        "The functions should take `contacts` and `name` as arguments. It should also print the newly added contact."
      ]
    },
    {
      "cell_type": "code",
      "source": [
        "def update_contact(contacts, name):\n",
        "\n",
        "  for cont in contacts:\n",
        "    if cont['name'] == name:\n",
        "      updated_name =  cont['name']\n",
        "      updated_number = cont['number']\n",
        "      updated_email = cont['email']\n",
        "\n",
        "      menu = input('Enter na to update name no to update number and em to update email:- ')\n",
        "      if menu == 'na':\n",
        "        updated_name =input('Enter updated name:- ')\n",
        "      elif menu == 'no':\n",
        "        updated_number =input('Enter updated number:- ')\n",
        "      elif menu == 'em':\n",
        "        updated_email =input('Enter updated email:- ')\n",
        "      elif 'na' in menu.split()  and 'no' in menu.split():\n",
        "        updated_name =input('Enter updated name:- ')\n",
        "        updated_number =input('Enter updated number:- ')\n",
        "\n",
        "      elif 'na' in menu.split()  and 'em' in menu.split():\n",
        "        updated_name =input('Enter updated name:- ')\n",
        "        updated_email =input('Enter updated email:- ')\n",
        "\n",
        "      elif  'no' in menu.split()  and 'em' in menu.split():\n",
        "        updated_number =input('Enter updated number:- ')\n",
        "        updated_email =input('Enter updated email:- ')\n",
        "\n",
        "      elif 'na' in menu.split() and'no' in menu.split()  and 'em' in menu.split():\n",
        "        updated_name =input('Enter updated name:- ')\n",
        "        updated_number =input('Enter updated number:- ')\n",
        "        updated_email =input('Enter updated email:- ')\n",
        "      cont['name'] = updated_name\n",
        "      cont['number'] = updated_number\n",
        "      cont['email'] = updated_email\n",
        "\n",
        "  return contacts\n",
        "\n",
        "# update_contact(contacts,'Ankita')"
      ],
      "metadata": {
        "id": "wWdLkzIq32m4"
      },
      "execution_count": null,
      "outputs": []
    },
    {
      "cell_type": "code",
      "execution_count": null,
      "metadata": {
        "id": "Un2sj1vNXMd_",
        "colab": {
          "base_uri": "https://localhost:8080/",
          "height": 390
        },
        "outputId": "978ba3f5-0a68-405d-8a5e-48b79fb4fad8"
      },
      "outputs": [
        {
          "output_type": "stream",
          "name": "stdout",
          "text": [
            "Contact not found for Mitali\n",
            "Updating contact details for Mitali\n"
          ]
        },
        {
          "output_type": "error",
          "ename": "KeyboardInterrupt",
          "evalue": "ignored",
          "traceback": [
            "\u001b[0;31m---------------------------------------------------------------------------\u001b[0m",
            "\u001b[0;31mKeyboardInterrupt\u001b[0m                         Traceback (most recent call last)",
            "\u001b[0;32m<ipython-input-16-0570c8d50642>\u001b[0m in \u001b[0;36m<cell line: 27>\u001b[0;34m()\u001b[0m\n\u001b[1;32m     25\u001b[0m         \u001b[0mprint\u001b[0m\u001b[0;34m(\u001b[0m\u001b[0;34m\"Contact not found for\"\u001b[0m\u001b[0;34m,\u001b[0m \u001b[0mname\u001b[0m\u001b[0;34m)\u001b[0m\u001b[0;34m\u001b[0m\u001b[0;34m\u001b[0m\u001b[0m\n\u001b[1;32m     26\u001b[0m \u001b[0;34m\u001b[0m\u001b[0m\n\u001b[0;32m---> 27\u001b[0;31m \u001b[0mupdate_contact\u001b[0m\u001b[0;34m(\u001b[0m\u001b[0mcontacts\u001b[0m\u001b[0;34m,\u001b[0m \u001b[0;34m'Mitali'\u001b[0m\u001b[0;34m)\u001b[0m\u001b[0;34m\u001b[0m\u001b[0;34m\u001b[0m\u001b[0m\n\u001b[0m",
            "\u001b[0;32m<ipython-input-16-0570c8d50642>\u001b[0m in \u001b[0;36mupdate_contact\u001b[0;34m(contacts, name)\u001b[0m\n\u001b[1;32m      6\u001b[0m         \u001b[0;32mwhile\u001b[0m \u001b[0mj\u001b[0m\u001b[0;34m==\u001b[0m\u001b[0;36m1\u001b[0m\u001b[0;34m:\u001b[0m\u001b[0;34m\u001b[0m\u001b[0;34m\u001b[0m\u001b[0m\n\u001b[1;32m      7\u001b[0m           \u001b[0mprint\u001b[0m\u001b[0;34m(\u001b[0m\u001b[0;34m\"Updating contact details for\"\u001b[0m\u001b[0;34m,\u001b[0m \u001b[0mname\u001b[0m\u001b[0;34m)\u001b[0m\u001b[0;34m\u001b[0m\u001b[0;34m\u001b[0m\u001b[0m\n\u001b[0;32m----> 8\u001b[0;31m           \u001b[0mop\u001b[0m\u001b[0;34m=\u001b[0m\u001b[0minput\u001b[0m\u001b[0;34m(\u001b[0m\u001b[0;34m\"enter 'na for name','no for number','e for email' \"\u001b[0m\u001b[0;34m)\u001b[0m\u001b[0;34m.\u001b[0m\u001b[0msplit\u001b[0m\u001b[0;34m(\u001b[0m\u001b[0;34m)\u001b[0m\u001b[0;34m\u001b[0m\u001b[0;34m\u001b[0m\u001b[0m\n\u001b[0m\u001b[1;32m      9\u001b[0m           \u001b[0;32mif\u001b[0m \u001b[0;34m'na'\u001b[0m \u001b[0;32min\u001b[0m \u001b[0mop\u001b[0m\u001b[0;34m:\u001b[0m\u001b[0;34m\u001b[0m\u001b[0;34m\u001b[0m\u001b[0m\n\u001b[1;32m     10\u001b[0m             \u001b[0mi\u001b[0m\u001b[0;34m[\u001b[0m\u001b[0;34m'name'\u001b[0m\u001b[0;34m]\u001b[0m \u001b[0;34m=\u001b[0m \u001b[0minput\u001b[0m\u001b[0;34m(\u001b[0m\u001b[0;34m\"Enter new name \"\u001b[0m\u001b[0;34m)\u001b[0m\u001b[0;34m\u001b[0m\u001b[0;34m\u001b[0m\u001b[0m\n",
            "\u001b[0;32m/usr/local/lib/python3.10/dist-packages/ipykernel/kernelbase.py\u001b[0m in \u001b[0;36mraw_input\u001b[0;34m(self, prompt)\u001b[0m\n\u001b[1;32m    849\u001b[0m                 \u001b[0;34m\"raw_input was called, but this frontend does not support input requests.\"\u001b[0m\u001b[0;34m\u001b[0m\u001b[0;34m\u001b[0m\u001b[0m\n\u001b[1;32m    850\u001b[0m             )\n\u001b[0;32m--> 851\u001b[0;31m         return self._input_request(str(prompt),\n\u001b[0m\u001b[1;32m    852\u001b[0m             \u001b[0mself\u001b[0m\u001b[0;34m.\u001b[0m\u001b[0m_parent_ident\u001b[0m\u001b[0;34m,\u001b[0m\u001b[0;34m\u001b[0m\u001b[0;34m\u001b[0m\u001b[0m\n\u001b[1;32m    853\u001b[0m             \u001b[0mself\u001b[0m\u001b[0;34m.\u001b[0m\u001b[0m_parent_header\u001b[0m\u001b[0;34m,\u001b[0m\u001b[0;34m\u001b[0m\u001b[0;34m\u001b[0m\u001b[0m\n",
            "\u001b[0;32m/usr/local/lib/python3.10/dist-packages/ipykernel/kernelbase.py\u001b[0m in \u001b[0;36m_input_request\u001b[0;34m(self, prompt, ident, parent, password)\u001b[0m\n\u001b[1;32m    893\u001b[0m             \u001b[0;32mexcept\u001b[0m \u001b[0mKeyboardInterrupt\u001b[0m\u001b[0;34m:\u001b[0m\u001b[0;34m\u001b[0m\u001b[0;34m\u001b[0m\u001b[0m\n\u001b[1;32m    894\u001b[0m                 \u001b[0;31m# re-raise KeyboardInterrupt, to truncate traceback\u001b[0m\u001b[0;34m\u001b[0m\u001b[0;34m\u001b[0m\u001b[0m\n\u001b[0;32m--> 895\u001b[0;31m                 \u001b[0;32mraise\u001b[0m \u001b[0mKeyboardInterrupt\u001b[0m\u001b[0;34m(\u001b[0m\u001b[0;34m\"Interrupted by user\"\u001b[0m\u001b[0;34m)\u001b[0m \u001b[0;32mfrom\u001b[0m \u001b[0;32mNone\u001b[0m\u001b[0;34m\u001b[0m\u001b[0;34m\u001b[0m\u001b[0m\n\u001b[0m\u001b[1;32m    896\u001b[0m             \u001b[0;32mexcept\u001b[0m \u001b[0mException\u001b[0m \u001b[0;32mas\u001b[0m \u001b[0me\u001b[0m\u001b[0;34m:\u001b[0m\u001b[0;34m\u001b[0m\u001b[0;34m\u001b[0m\u001b[0m\n\u001b[1;32m    897\u001b[0m                 \u001b[0mself\u001b[0m\u001b[0;34m.\u001b[0m\u001b[0mlog\u001b[0m\u001b[0;34m.\u001b[0m\u001b[0mwarning\u001b[0m\u001b[0;34m(\u001b[0m\u001b[0;34m\"Invalid Message:\"\u001b[0m\u001b[0;34m,\u001b[0m \u001b[0mexc_info\u001b[0m\u001b[0;34m=\u001b[0m\u001b[0;32mTrue\u001b[0m\u001b[0;34m)\u001b[0m\u001b[0;34m\u001b[0m\u001b[0;34m\u001b[0m\u001b[0m\n",
            "\u001b[0;31mKeyboardInterrupt\u001b[0m: Interrupted by user"
          ]
        }
      ],
      "source": [
        "def update_contact(contacts, name):\n",
        "\n",
        "  for i in contacts:\n",
        "      if i['name'] == name:\n",
        "        j=1\n",
        "        while j==1:\n",
        "          print(\"Updating contact details for\", name)\n",
        "          op=input(\"enter 'na for name','no for number','e for email' \").split()\n",
        "          if 'na' in op:\n",
        "            i['name'] = input(\"Enter new name \")\n",
        "          if 'no' in op:\n",
        "            i['number'] = input(\"Enter new number \")\n",
        "          if 'e' in op:\n",
        "            i['email'] = input(\" enter email id\")\n",
        "          if ('na' not in op) and ('no' not in op) and ('e' not in op):\n",
        "            print('Enter Correct input')\n",
        "            continue\n",
        "          print(\"\\nUpdated contact details:\")\n",
        "          print(\"Name:\", i['name'])\n",
        "          print(\"Number:\", i['number'])\n",
        "          print(\"Email:\", i['email'])\n",
        "          return contacts\n",
        "\n",
        "      else:\n",
        "        print(\"Contact not found for\", name)\n",
        "\n",
        "update_contact(contacts, 'Mitali')\n"
      ]
    },
    {
      "cell_type": "code",
      "execution_count": null,
      "metadata": {
        "id": "ucT6_5AMXMeA",
        "colab": {
          "base_uri": "https://localhost:8080/"
        },
        "outputId": "993082a1-7668-48ed-c7b3-2a2ea9a84c26"
      },
      "outputs": [
        {
          "output_type": "execute_result",
          "data": {
            "text/plain": [
              "[{'name': 'Sayali', 'number': 9124468911, 'email': 'sayalishevale3@gmail.com'},\n",
              " {'name': 'Ankita', 'number': 7868799277, 'email': 'ankitarathod10@gmail.com'},\n",
              " {'name': 'Tejashri', 'number': 7238990055, 'email': 'tejashri19@gmail.com'}]"
            ]
          },
          "metadata": {},
          "execution_count": 31
        }
      ],
      "source": [
        "from os import name\n",
        "update_contact(contacts, name)"
      ]
    },
    {
      "cell_type": "markdown",
      "metadata": {
        "id": "a196Fme9XMeB"
      },
      "source": [
        "### search Contact\n",
        "`open_contact` function takes the `contacts` list and a `name` string as input. It prints the contact details if `name` matches some contact name in the `contacts` list, else prints `No match found!`.\n",
        "\n",
        "**Note:** The functions should be case insensitive."
      ]
    },
    {
      "cell_type": "code",
      "execution_count": null,
      "metadata": {
        "id": "XgQwnC34XMeB"
      },
      "outputs": [],
      "source": [
        "def search_contact(contacts, name):\n",
        "  for i in contacts:\n",
        "    if i['name']==name:\n",
        "      print('match')\n",
        "    else:\n",
        "      print('No match found!')\n",
        "      return contacts\n",
        "\n",
        "\n"
      ]
    },
    {
      "cell_type": "code",
      "source": [
        "# Initialize the Contacts Database\n",
        "contacts = [{'name': 'Sayali', 'number': 9124468911, 'email': 'sayalishevale3@gmail.com'},\n",
        "            {'name': 'Ankita', 'number': 7868799277, 'email': 'ankitarathod10@gmail.com'},\n",
        "            {'name': 'Tejashri', 'number': 7238990055, 'email': 'tejashri19@gmail.com'}]\n",
        "\n",
        "# Function to print contact details if a match is found\n",
        "def open_contact(contacts, name):\n",
        "    for contact in contacts:\n",
        "        if contact[\"name\"].lower() == name.lower():\n",
        "            print(\"Contacts:\")\n",
        "            print(\"Name:\", contact[\"name\"])\n",
        "            print(\"Number:\", contact[\"number\"])\n",
        "            print(\"Email:\", contact[\"email\"])\n",
        "            return\n",
        "    print(\"No match found!\")\n",
        "\n",
        "open_contact(contacts, 'Priya')\n"
      ],
      "metadata": {
        "colab": {
          "base_uri": "https://localhost:8080/"
        },
        "id": "SPrAxXks57h5",
        "outputId": "b3d5f5a9-b486-428d-ac82-4543b6a80db0"
      },
      "execution_count": null,
      "outputs": [
        {
          "output_type": "stream",
          "name": "stdout",
          "text": [
            "No match found!\n"
          ]
        }
      ]
    },
    {
      "cell_type": "code",
      "source": [
        "def open_contact(contacts, name):\n",
        "\n",
        "\n",
        "\n",
        "  found = False\n",
        "\n",
        "  for contact in contacts:\n",
        "      if contact['name'].lower() == name.lower():\n",
        "          print(\"Contact Details:\")\n",
        "          print(f\"Name: {contact['name']}\")\n",
        "          print(f\"Phone: {contact.get('phone', 'N/A')}\")\n",
        "          print(f\"Email: {contact.get('email', 'N/A')}\")\n",
        "          found = True\n",
        "          break\n",
        "\n",
        "  if not found:\n",
        "      print(\"No match found!\")\n"
      ],
      "metadata": {
        "id": "_u4GaCSDn-a4"
      },
      "execution_count": null,
      "outputs": []
    },
    {
      "cell_type": "code",
      "execution_count": null,
      "metadata": {
        "id": "oreMzCFLXMeC",
        "colab": {
          "base_uri": "https://localhost:8080/"
        },
        "outputId": "73c006df-eb6d-4b13-a79f-9e3bae97368e"
      },
      "outputs": [
        {
          "output_type": "stream",
          "name": "stdout",
          "text": [
            "No match found!\n"
          ]
        },
        {
          "output_type": "execute_result",
          "data": {
            "text/plain": [
              "[{'name': 'Sayali', 'number': 9124468911, 'email': 'sayalishevale3@gmail.com'},\n",
              " {'name': 'Ankita', 'number': 7868799277, 'email': 'ankitarathod10@gmail.com'},\n",
              " {'name': 'Tejashri', 'number': 7238990055, 'email': 'tejashri19@gmail.com'}]"
            ]
          },
          "metadata": {},
          "execution_count": 35
        }
      ],
      "source": [
        "search_contact(contacts, 'priya')"
      ]
    },
    {
      "cell_type": "markdown",
      "metadata": {
        "id": "OHwMFXtlXMeD"
      },
      "source": [
        "We often see *update* & *delete* options after we open a particular contact. It would be great if we can also implement the same.\n",
        "\n",
        "After opening the contact, the program should wait for user input. The user can press `u` to update & `d` delete contact. Any other key press should be ignored\n",
        "\n",
        "Write the updated `open_contact` function below"
      ]
    },
    {
      "cell_type": "code",
      "execution_count": null,
      "metadata": {
        "id": "Dbheg86KXMeD"
      },
      "outputs": [],
      "source": [
        "def open_contact(contacts, name):\n",
        "  for i in contacts:\n",
        "    if i['name']==name:\n",
        "      contacts.remove(i)\n",
        "      print('d')\n",
        "    if i['name']==name:\n",
        "      update_contact(contacts,name)\n",
        "      print('u')\n",
        "      return contacts\n",
        "\n"
      ]
    },
    {
      "cell_type": "code",
      "source": [
        "def open_contact(contacts):\n",
        "  while True:\n",
        "    choice = input(\"Enter 'u' to update contact, 'd' to delete contact, or any other key to return: \")\n",
        "    if choice.lower() == 'u':\n",
        "      name=input(\"Enter name\")\n",
        "      contacts = update_contact(contacts, name)\n",
        "    elif choice.lower() == 'd':\n",
        "      name=input(\"Enter name\")\n",
        "      contacts = delete_contact(contacts, name)\n",
        "    else:\n",
        "      break\n",
        "\n",
        "      # Exit the loop if neither 'u' nor 'd' is pressed\n",
        "      print('No match found!')\n",
        "      return contacts\n",
        "\n"
      ],
      "metadata": {
        "id": "5DwK321f9qAI"
      },
      "execution_count": null,
      "outputs": []
    },
    {
      "cell_type": "code",
      "execution_count": null,
      "metadata": {
        "id": "59W-iO7hXMeE",
        "colab": {
          "base_uri": "https://localhost:8080/"
        },
        "outputId": "32ff94eb-b028-4d5c-8c1f-c86cf4ccf221"
      },
      "outputs": [
        {
          "name": "stdout",
          "output_type": "stream",
          "text": [
            "Enter 'u' to update contact, 'd' to delete contact, or any other key to return: u\n",
            "Enter nameMitali\n",
            "Enter 'u' to update contact, 'd' to delete contact, or any other key to return: d\n",
            "Enter nameMitali\n",
            "Enter 'u' to update contact, 'd' to delete contact, or any other key to return: q\n"
          ]
        }
      ],
      "source": [
        "open_contact(contacts)"
      ]
    },
    {
      "cell_type": "markdown",
      "metadata": {
        "id": "NUIAmaLxXMeF"
      },
      "source": [
        "### Complete application (using all the above functions in use)\n",
        "\n",
        "We will use an infinite loop to encapsulate our application logic and break only when `q` is pressed. We will use `clear_output()` function from `IPython.display` to clear the output before printing anything new.\n",
        "\n",
        "Below is the pseudo-code to help you build the application logic."
      ]
    },
    {
      "cell_type": "code",
      "source": [
        "contacts=[{'name':'Sayali','number':9124468911,'email':'sayalishevale3@gmail.com'},\n",
        "          {'name': 'Ankita','number':7868799277,'email':'ankitarathod10@gmail.com'},\n",
        "          {'name':'Tejashri','number':7238990055,'email':'tejashri19@gmail.com'}]"
      ],
      "metadata": {
        "id": "OyacHlcy3aAv"
      },
      "execution_count": null,
      "outputs": []
    },
    {
      "cell_type": "code",
      "execution_count": null,
      "metadata": {
        "id": "woue-lhTXMeF",
        "colab": {
          "base_uri": "https://localhost:8080/"
        },
        "outputId": "c54915e9-62ad-4b15-bdca-e8118b8c025b"
      },
      "outputs": [
        {
          "name": "stdout",
          "output_type": "stream",
          "text": [
            "[{'name': 'Sayali', 'number': 9124468911, 'email': 'sayalishevale3@gmail.com'}, {'name': 'Ankita', 'number': 7868799277, 'email': 'ankitarathod10@gmail.com'}, {'name': 'Tejashri', 'number': 7238990055, 'email': 'tejashri19@gmail.com'}, {'name': 'Mitali', 'number': '8675755595', 'email': 'mitali1@gmail.com'}, {'name': 'Sakshi', 'number': '1245648905', 'email': 'sakshi3@gmail.com'}]\n",
            "Press 'a' - add contact, 'o' - open contact, 's' - search contact, 'q' - quito\n",
            "Enter name of the contact you want to open. Ankita\n",
            "Enter 'u' to update contact, 'd' to delete contact, or any other key to return: u\n",
            "Enter nameAnkita\n",
            "Enter na to update name no to update number and em to update email:- na\n",
            "Enter updated name:- Neeta\n",
            "Enter 'u' to update contact, 'd' to delete contact, or any other key to return: q\n",
            "[{'name': 'Sayali', 'number': 9124468911, 'email': 'sayalishevale3@gmail.com'}, {'name': 'Neeta', 'number': 7868799277, 'email': 'ankitarathod10@gmail.com'}, {'name': 'Tejashri', 'number': 7238990055, 'email': 'tejashri19@gmail.com'}, {'name': 'Mitali', 'number': '8675755595', 'email': 'mitali1@gmail.com'}, {'name': 'Sakshi', 'number': '1245648905', 'email': 'sakshi3@gmail.com'}]\n",
            "Press 'a' - add contact, 'o' - open contact, 's' - search contact, 'q' - quitq\n"
          ]
        }
      ],
      "source": [
        "from IPython.display import clear_output\n",
        "\n",
        "while True:\n",
        "  show_contacts(contacts)\n",
        "\n",
        "  action = input(\"Press 'a' - add contact, 'o' - open contact, 's' - search contact, 'q' - quit\")\n",
        "\n",
        "  if action == 'a':\n",
        "    add_contact(contacts)\n",
        "\n",
        "\n",
        "  elif action == 'o':\n",
        "    name = input(\"Enter name of the contact you want to open. \")\n",
        "    open_contact(contacts)\n",
        "\n",
        "  elif action == 'q':\n",
        "    break\n",
        "\n",
        "  else:\n",
        "    print('incorrect choice')\n"
      ]
    },
    {
      "cell_type": "markdown",
      "metadata": {
        "id": "YMPxsy_pXMeG"
      },
      "source": [
        "## Using files\n",
        "\n",
        "One major problem with the above approach is \"persistent storage\". Every time you close this notebook, all the new contacts are lost. This happens because `contacts` is a python variable. Its lives inside python session. As soon as the session is killed/terminated, all the varibles are also deleted.\n",
        "\n",
        "To address this problem, we will have to use save the contacts in a disk. What better reason to use files? Instead of using *list of dictionary*, use file to save the contacts.\n",
        "\n",
        "Save every new contact in a new-line and use \" , \" to separate the contact fields. This is how the above contacts should look, when saved in a file.\n",
        "\n",
        "```text\n",
        "vivek, vivek@gmail.com, 9921668254\n",
        "ankur, ankur@gmail.com, 8806807004\n",
        "pranav, pranav@gmail.com, 987654321\n",
        "```\n",
        "\n",
        "You task is to make appropriate changes to the above code to use `contacts.txt` instead of using `contacts` list."
      ]
    },
    {
      "cell_type": "markdown",
      "metadata": {
        "id": "gelmFzjVXMeG"
      },
      "source": [
        "## Using Regex\n",
        "\n",
        "Yet another problem with our app is \"lack of validation\". While creating a new contact, user is free to enter anything. But why is that a problem?\n",
        "\n",
        "**Input validation** is important to ensure only properly formed data is entering the workflow in an information system, preventing malformed data from persisting in the database and triggering malfunction of various downstream components. Input validation should happen as early as possible in the data flow, preferably as soon as the data is received. [source](https://cheatsheetseries.owasp.org/cheatsheets/Input_Validation_Cheat_Sheet.html)\n",
        "\n",
        "The above paragraph is the complete gist of Input validation. Read it again & ponder for a minute. Its an important concept when building customer facing applications. We would highly recommend you to Google and read more about it.  \n",
        "\n",
        "Use regular expression to validate user input (before you save it to the file). Implement the following:\n",
        "- `Name` should be all alphabets. \" \" should also be allowed.\n",
        "- For `email` refer regex chapter from course material.\n",
        "- `Number` should have 10 digits. Not less, not more. Also, not alphabets should be allowed.\n",
        "- Add a new field `DOB` to each contact. It should follow YYYY-MM-DD format. Then write a regular expression to validate it. Remember, date & month cannot be greater that 31 & 12, respectively.\n",
        "\n",
        "Can you think of any more validations?"
      ]
    },
    {
      "cell_type": "markdown",
      "metadata": {
        "id": "--cwicloXMeH"
      },
      "source": [
        "We really hope you had a wonderful time building this applications. This is how applications are developed in really life. You start with a set of basic functionalities and then you keep adding new features (like persistent storage & validation). As the application grows in size, you might encounter new problems to solve."
      ]
    }
  ],
  "metadata": {
    "kernelspec": {
      "display_name": "Python 3",
      "language": "python",
      "name": "python3"
    },
    "language_info": {
      "codemirror_mode": {
        "name": "ipython",
        "version": 3
      },
      "file_extension": ".py",
      "mimetype": "text/x-python",
      "name": "python",
      "nbconvert_exporter": "python",
      "pygments_lexer": "ipython3",
      "version": "3.7.4"
    },
    "toc": {
      "base_numbering": 1,
      "nav_menu": {},
      "number_sections": true,
      "sideBar": true,
      "skip_h1_title": false,
      "title_cell": "Table of Contents",
      "title_sidebar": "Contents",
      "toc_cell": false,
      "toc_position": {},
      "toc_section_display": true,
      "toc_window_display": false
    },
    "colab": {
      "provenance": [],
      "include_colab_link": true
    }
  },
  "nbformat": 4,
  "nbformat_minor": 0
}