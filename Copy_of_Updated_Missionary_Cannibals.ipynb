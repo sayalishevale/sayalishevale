{
  "nbformat": 4,
  "nbformat_minor": 0,
  "metadata": {
    "kernelspec": {
      "display_name": "Python 3",
      "language": "python",
      "name": "python3"
    },
    "language_info": {
      "codemirror_mode": {
        "name": "ipython",
        "version": 3
      },
      "file_extension": ".py",
      "mimetype": "text/x-python",
      "name": "python",
      "nbconvert_exporter": "python",
      "pygments_lexer": "ipython3",
      "version": "3.8.3"
    },
    "toc": {
      "base_numbering": 1,
      "nav_menu": {},
      "number_sections": true,
      "sideBar": true,
      "skip_h1_title": false,
      "title_cell": "Table of Contents",
      "title_sidebar": "Contents",
      "toc_cell": false,
      "toc_position": {},
      "toc_section_display": true,
      "toc_window_display": false
    },
    "colab": {
      "provenance": [],
      "collapsed_sections": [
        "WKu9fCDCgvPb",
        "3JdBVqIWhdwj",
        "Si__xVHFQog1",
        "e7uW2kToiKsv",
        "FZHREN7aVHTa",
        "-hIyuzsJQog3",
        "WpcPEa3JQog4"
      ],
      "include_colab_link": true
    }
  },
  "cells": [
    {
      "cell_type": "markdown",
      "metadata": {
        "id": "view-in-github",
        "colab_type": "text"
      },
      "source": [
        "<a href=\"https://colab.research.google.com/github/sayalishevale/sayalishevale/blob/main/Copy_of_Updated_Missionary_Cannibals.ipynb\" target=\"_parent\"><img src=\"https://colab.research.google.com/assets/colab-badge.svg\" alt=\"Open In Colab\"/></a>"
      ]
    },
    {
      "cell_type": "markdown",
      "metadata": {
        "id": "y5dddMZVQogb"
      },
      "source": [
        "# <center>3 Missionaries 3 Cannibals</center>\n",
        "\n",
        "Create the famous 3 missionaries 3 cannibals crossing the river game.\n",
        "\n",
        "[Play Game!](https://www.novelgames.com/en/missionaries/)\n",
        "\n",
        "## Notebook Content :\n",
        "\n",
        "- **Lesson 1 :**\n",
        "  - Setting up the initial environment of the game.\n",
        "\n",
        "- **Lesson 2 :**\n",
        "  - Adding the required valid and invalid conditions alongwith their operations.\n",
        "\n",
        "- **Lesson 3 :**\n",
        "  - Combining all segments of the code to build the game.\n",
        "\n",
        "- **Lesson 4 :**\n",
        "  - Adding emoticons to complete the game with better interface.\n"
      ]
    },
    {
      "cell_type": "markdown",
      "metadata": {
        "id": "E6meN3PiQogl"
      },
      "source": [
        "## Rules :\n",
        "- Only 1 or 2 people are permitted on the boat to travel.\n",
        "- We cannot select anymore missionaries or cannibals on the boat than the available number of missionaries or cannibals on either side.\n",
        "- You **lose** if the number of cannibals exceeds the number of missionaries on either side.\n",
        "- You **win** if you successfully transfer all the missionaries and cannibals from right side to left side."
      ]
    },
    {
      "cell_type": "markdown",
      "metadata": {
        "id": "1fGHJcbTQogm"
      },
      "source": [
        "## <center>**Lesson 1**</center>\n",
        "\n",
        "#### <center>**Setting up the initial environment of the game**</center>"
      ]
    },
    {
      "cell_type": "markdown",
      "metadata": {
        "id": "2qAeNA_ZQogn"
      },
      "source": [
        "In the initial conditions of the game, all the missionaries and cannibals are on the right side alongwith the boat and the left side is completely empty. We will mimic this condition by defining variables for them.\n",
        "\n",
        "### **Define initial variables :**\n",
        "\n",
        "- Define variable `boat_side` as 'Right' initially. This depicts the boat being placed at right side.\n",
        "- Create numeric variables for number of missionaries and cannibals\n",
        "   on the right and left side.\n",
        "   So there are 3 missionaries and cannibals on right side and 0 on the left side.\n",
        "- **List of Variables :**\n",
        "`boat_side, missionaries_on_right, cannibals_on_right, missionaries_on_left, cannibals_on_left`\n"
      ]
    },
    {
      "cell_type": "code",
      "source": [],
      "metadata": {
        "id": "3MpkQnUqYqz2"
      },
      "execution_count": null,
      "outputs": []
    },
    {
      "cell_type": "code",
      "metadata": {
        "id": "AmjfaRdgQogo"
      },
      "source": [
        "boat_side=\"right\"\n",
        "missionaries_on_right=3\n",
        "cannibals_on_right=3\n",
        "missionaries_on_left=0\n",
        "cannibals_on_left=0\n",
        "\n",
        "\n",
        "\n",
        "\n"
      ],
      "execution_count": null,
      "outputs": []
    },
    {
      "cell_type": "markdown",
      "metadata": {
        "id": "544yxFpIQogp"
      },
      "source": [
        "Now display the inital conditions of the game using the following stylish manner :<br>\n",
        "\n",
        "`M = 0 C = 0  |-----B|  M = 3 C = 3`<br>\n",
        "\n",
        "Make sure to not hardcode all values."
      ]
    },
    {
      "cell_type": "code",
      "metadata": {
        "id": "EGp8GNBhQogq",
        "colab": {
          "base_uri": "https://localhost:8080/"
        },
        "outputId": "2adbfe08-726d-4955-f80a-fac062c67448"
      },
      "source": [
        "print('m=',missionaries_on_left,'c=',cannibals_on_left,'|-----B|','m=',missionaries_on_right,'c=',cannibals_on_right)\n"
      ],
      "execution_count": null,
      "outputs": [
        {
          "output_type": "stream",
          "name": "stdout",
          "text": [
            "m= 0 c= 0 |-----B| m= 3 c= 3\n"
          ]
        }
      ]
    },
    {
      "cell_type": "markdown",
      "metadata": {
        "id": "PObVD9tdQogq"
      },
      "source": [
        "## <center>**Lesson 2**</center>\n",
        "#### <center>**Adding the required valid and invalid conditions alongwith their operations**</center>\n"
      ]
    },
    {
      "cell_type": "markdown",
      "metadata": {
        "id": "2aDEi-SqQogq"
      },
      "source": [
        "Take input from the user for entering the number of missionaries and cannibals on the boat.<br>\n",
        "Store these values in 2 variables : `missionaries, cannibals`\n",
        "\n",
        "This part depicts the process of tapping the `missionaries` and `cannibals` on to the boat.  \n",
        "\n",
        "**Note :** Make sure you pass the appropriate message in the input function that assists user in entering the values.\n",
        "\n",
        "**Note :** The following code cells will be common for both right side and left side required in Lesson 3 and Lesson 4."
      ]
    },
    {
      "cell_type": "code",
      "metadata": {
        "id": "GEglqSjrQogr",
        "colab": {
          "base_uri": "https://localhost:8080/"
        },
        "outputId": "462ce0d3-c429-419b-ebf7-e2c0bd24118f"
      },
      "source": [
        "missionaries_on_boat=int(input())\n",
        "cannibals_on_boat=int(input())\n",
        "\n",
        "\n"
      ],
      "execution_count": null,
      "outputs": [
        {
          "name": "stdout",
          "output_type": "stream",
          "text": [
            "1\n",
            "1\n"
          ]
        }
      ]
    },
    {
      "cell_type": "markdown",
      "metadata": {
        "id": "fVfioCyZQogs"
      },
      "source": [
        "**Invalid Move 1 :**\n",
        "\n",
        "Check if the maximum number of people on the boat are 1 or 2 only else print \"Invalid move 1\"1"
      ]
    },
    {
      "cell_type": "code",
      "metadata": {
        "id": "50I3KT4hQogs"
      },
      "source": [
        "if(missionaries_on_boat + cannibals_on_boat<0 or missionaries_on_boat + cannibals_on_boat>2):\n",
        "    print(\"invalid move 1\")\n",
        "\n"
      ],
      "execution_count": null,
      "outputs": []
    },
    {
      "cell_type": "markdown",
      "metadata": {
        "id": "Oe1ymzIIQogt"
      },
      "source": [
        "###  <center>**Codeflow for Right Side**</center>"
      ]
    },
    {
      "cell_type": "markdown",
      "source": [
        "Add if - else statement to check the value of `boat_side` variable and display if the boat is on right side.\n",
        "\n",
        "This is done to confirm the boat side before carrying out the required operations."
      ],
      "metadata": {
        "id": "SoyMGHXrZd28"
      }
    },
    {
      "cell_type": "code",
      "source": [
        "boat_side='right'\n",
        "if(boat_side=='right'):\n",
        "  print('right')\n",
        "else:\n",
        "    print('left')"
      ],
      "metadata": {
        "id": "E0035i_CZasN",
        "colab": {
          "base_uri": "https://localhost:8080/"
        },
        "outputId": "3d7f74b6-ca09-426a-9a85-3cfd323f1db6"
      },
      "execution_count": null,
      "outputs": [
        {
          "output_type": "stream",
          "name": "stdout",
          "text": [
            "right\n"
          ]
        }
      ]
    },
    {
      "cell_type": "markdown",
      "source": [
        "**Invalid Move 2 :**\n",
        "\n",
        "Check if the number of missionaries or cannibals entered on the boat are greater than the available missionaries or cannibals on the right side. If yes, print \"Invalid move 2\"."
      ],
      "metadata": {
        "id": "Y8sYOlsqZolz"
      }
    },
    {
      "cell_type": "code",
      "metadata": {
        "id": "PzW5raCfQogt"
      },
      "source": [
        "if(missionaries_on_boat>=missionaries_on_right) or (cannibals_on_boat>=cannibals_on_right):\n",
        "  print(\"invalid move 2\")"
      ],
      "execution_count": null,
      "outputs": []
    },
    {
      "cell_type": "markdown",
      "metadata": {
        "id": "d6wYZ7DLQogu"
      },
      "source": [
        "When the boat travels from right side to left side :\n",
        "- Number of missionaries and cannibals reduce from the right side.\n",
        "- Number of missionaries and cannibals increase on the left side."
      ]
    },
    {
      "cell_type": "code",
      "metadata": {
        "id": "rgbWSeUBQogu"
      },
      "source": [
        "missionaries_on_right=missionaries_on_right-missionaries_on_boat\n",
        "cannibals_on_right=cannibals_on_right-cannibals_on_boat\n",
        "missionaries_on_left=missionaries_on_left+missionaries_on_boat\n",
        "cannibals_on_left=cannibals_on_left+cannibals_on_boat"
      ],
      "execution_count": null,
      "outputs": []
    },
    {
      "cell_type": "markdown",
      "metadata": {
        "id": "US5ADpenQogv"
      },
      "source": [
        "Display in the same format as mentioned above.\n",
        "\n",
        "`M = 1 C = 1  |B-----|  M = 2 C = 2`\n",
        "\n",
        "Change the `boat_side` variable to 'Left' aswell.\n",
        "\n",
        "This variable overwrite is the equivalent of the boat travelling from right side to left side."
      ]
    },
    {
      "cell_type": "code",
      "metadata": {
        "id": "roWkGTzyQogv",
        "colab": {
          "base_uri": "https://localhost:8080/"
        },
        "outputId": "0b23f86d-6306-48af-c3a9-eee442f2d059"
      },
      "source": [
        "print('m=',missionaries_on_left,'c=',cannibals_on_left,'|B-----|','m=',missionaries_on_right,'c',cannibals_on_right)"
      ],
      "execution_count": null,
      "outputs": [
        {
          "output_type": "stream",
          "name": "stdout",
          "text": [
            "m= 2 c= 2 |B-----| m= 1 c 1\n"
          ]
        }
      ]
    },
    {
      "cell_type": "markdown",
      "source": [],
      "metadata": {
        "id": "ZXv8nMd3y7gA"
      }
    },
    {
      "cell_type": "markdown",
      "metadata": {
        "id": "WWKdADPJQogw"
      },
      "source": [
        "###  <center>**Codeflow for Left Side**</center>\n"
      ]
    },
    {
      "cell_type": "markdown",
      "source": [
        "Add if - else statement to check the value of `boat_side` variable and display if the boat is on left side.\n",
        "\n",
        "This is done to confirm the boat side before carrying out the required operations."
      ],
      "metadata": {
        "id": "94_ZSJi8dSvd"
      }
    },
    {
      "cell_type": "code",
      "source": [
        "boat_side='left'\n",
        "if(boat_side=='left'):\n",
        "  print('left')\n",
        "else:\n",
        "  print('right')"
      ],
      "metadata": {
        "id": "zGgX00C-dSIt",
        "colab": {
          "base_uri": "https://localhost:8080/"
        },
        "outputId": "fff5fa94-fad1-4eb8-e003-650fbe91543a"
      },
      "execution_count": null,
      "outputs": [
        {
          "output_type": "stream",
          "name": "stdout",
          "text": [
            "left\n"
          ]
        }
      ]
    },
    {
      "cell_type": "markdown",
      "source": [
        "**Invalid Move 2 :**\n",
        "\n",
        "Check if the number of missionaries or cannibals entered on the boat are greater than the available missionaries or cannibals on the left side. If yes, print \"Invalid move 2\"."
      ],
      "metadata": {
        "id": "hrTq7kv7dQ2u"
      }
    },
    {
      "cell_type": "code",
      "metadata": {
        "id": "XlrT8EEaQogw",
        "colab": {
          "base_uri": "https://localhost:8080/"
        },
        "outputId": "62bd22da-9c8c-4a2c-cdff-3a1b6b49b8ed"
      },
      "source": [
        "if(missionaries_on_boat or missionaries_on_boat>=cannibals_on_boat or cannibals_on_boat):\n",
        "  print(\"invalid move 2\")"
      ],
      "execution_count": null,
      "outputs": [
        {
          "output_type": "stream",
          "name": "stdout",
          "text": [
            "invalid move 2\n"
          ]
        }
      ]
    },
    {
      "cell_type": "markdown",
      "metadata": {
        "id": "gdYiQ1WXQogw"
      },
      "source": [
        "When the boat travels from left side to right side :\n",
        "- Number of missionaries and cannibals reduce from the left side.\n",
        "- Number of missionaries and cannibals increase on the right side."
      ]
    },
    {
      "cell_type": "code",
      "metadata": {
        "id": "z196LJKBQogw"
      },
      "source": [
        "missionaries_on_left=missionaries_on_left-missionaries_on_boat\n",
        "cannibals_on_left=cannibals_on_left-cannibals_on_boat\n",
        "missionaries_on_right=missionaries_on_right+missionaries_on_boat\n",
        "cannibals_on_right=cannibals_on_right+cannibals_on_boat"
      ],
      "execution_count": null,
      "outputs": []
    },
    {
      "cell_type": "markdown",
      "source": [],
      "metadata": {
        "id": "nI-UWOcwlTUj"
      }
    },
    {
      "cell_type": "markdown",
      "metadata": {
        "id": "oB-3nBCkQogx"
      },
      "source": [
        "Display in the same format as mentioned above.\n",
        "\n",
        "`M = 0 C = 0  |-----B|  M = 3 C = 3`\n",
        "\n",
        "Change the `boat_side` variable to 'Right'.\n",
        "\n",
        "This marks the boat being travelled back to right side."
      ]
    },
    {
      "cell_type": "code",
      "metadata": {
        "id": "mtt1iSkoQogx",
        "colab": {
          "base_uri": "https://localhost:8080/"
        },
        "outputId": "a1af1cf4-beb2-4cdd-8d77-d99907608f44"
      },
      "source": [
        "print('m=',missionaries_on_right,'c=',cannibals_on_right,'|B-----|','m=',missionaries_on_left,'c',cannibals_on_left)"
      ],
      "execution_count": null,
      "outputs": [
        {
          "output_type": "stream",
          "name": "stdout",
          "text": [
            "m= 2 c= 2 |B-----| m= 1 c 1\n"
          ]
        }
      ]
    },
    {
      "cell_type": "markdown",
      "source": [
        "###  <center>**Conditions for Losing the Game**</center>"
      ],
      "metadata": {
        "id": "WKu9fCDCgvPb"
      }
    },
    {
      "cell_type": "markdown",
      "metadata": {
        "id": "sNJhIGL6Qogz"
      },
      "source": [
        "Add conditions to check if the game is lost :\n",
        "- If the number of missionaries is less than the number of cannibals on the right side and the number of missionaries on right side are greater than 0, then print `'YOU LOSE'`.\n",
        "- If the number of missionaries is less than the number of cannibals on the left side and the number of missionaries on left side are greater than 0, then print `'YOU LOSE'`."
      ]
    },
    {
      "cell_type": "code",
      "metadata": {
        "id": "zKqb4BADQog0",
        "colab": {
          "base_uri": "https://localhost:8080/"
        },
        "outputId": "28d548bf-13b5-44e3-aae8-06af8d1d9101"
      },
      "source": [
        "if(missionaries_on_boat<=cannibals_on_right and missionaries_on_right>=0):\n",
        "  print('You Lose')\n",
        "if(missionaries_on_boat<=cannibals_on_left and missionaries_on_left>=0):\n",
        "  print('You Lose')"
      ],
      "execution_count": null,
      "outputs": [
        {
          "output_type": "stream",
          "name": "stdout",
          "text": [
            "You Lose\n",
            "You Lose\n"
          ]
        }
      ]
    },
    {
      "cell_type": "markdown",
      "source": [],
      "metadata": {
        "id": "8hLDKMlIlXkX"
      }
    },
    {
      "cell_type": "markdown",
      "source": [
        "###  <center>**Conditions for Winning the Game**</center>"
      ],
      "metadata": {
        "id": "3JdBVqIWhdwj"
      }
    },
    {
      "cell_type": "markdown",
      "metadata": {
        "id": "aS47ad6CQog0"
      },
      "source": [
        "Add conditions to check if the game is won :\n",
        "- If the number of missionaries and cannibals on the left side are equal to 3, then print `'YOU WIN'`."
      ]
    },
    {
      "cell_type": "markdown",
      "source": [],
      "metadata": {
        "id": "niGBUS5r0KN3"
      }
    },
    {
      "cell_type": "code",
      "metadata": {
        "id": "5dW6W8gyQog0"
      },
      "source": [
        "if(missionaries_on_left==3 and cannibals_on_left==3):\n",
        "  print('You Win')"
      ],
      "execution_count": null,
      "outputs": []
    },
    {
      "cell_type": "markdown",
      "metadata": {
        "id": "Si__xVHFQog1"
      },
      "source": [
        "## <center>**Lesson 3**</center>\n",
        "#### <center>**Combining all segments of the code to build the game**</center>"
      ]
    },
    {
      "cell_type": "markdown",
      "source": [
        "### **Structure of the Combined Code :**\n",
        "\n",
        "<center>\n",
        "\n",
        "```\n",
        "    Setup the inital game conditions and display your game board in the below format.\n",
        "     \n",
        "        M = 0 C = 0  |-----B|  M = 3 C = 3\n",
        "```\n",
        "</center>\n",
        "\n",
        " boat_side == \"Right\":\n",
        "\n",
        "<center>\n",
        "\n",
        "```\n",
        "    Check the maximum number of people permitted to travel on the boat.    \n",
        "```\n",
        "```\n",
        "    Now check if the number of missionaries or cannibals entered on the\n",
        "    boat are more than the available missionaries and cannibals on the  \n",
        "    right side.\n",
        "```   \n",
        "```\n",
        "    When the boat travels from the right side, missionaries and cannibals\n",
        "    reduce from the right side and increase on the left side.    \n",
        "```     \n",
        "```\n",
        "    Display your game board in the below format.\n",
        "    \n",
        "        M = 0 C = 0  |B-----|  M = 3 C = 3\n",
        "\n",
        "    Make the necessary changes that mark the side change from right side to left side.\n",
        "```\n",
        "</center>\n",
        "\n",
        " boat_side == \"Left\":\n",
        "\n",
        "<center>\n",
        "\n",
        "```\n",
        "    Check the maximum number of people permitted to travel on the boat.    \n",
        "```\n",
        "```\n",
        "    Now check if the number of missionaries or cannibals entered on the\n",
        "    boat are more than the available missionaries and cannibals on the  \n",
        "    left side.\n",
        "```   \n",
        "```\n",
        "    When the boat travels from the left side, missionaries and cannibals\n",
        "    reduce from the left side and increase on the right side.    \n",
        "```\n",
        "```\n",
        "    Display your game board in the below format.\n",
        "    \n",
        "    M = 0 C = 0  |-----B|  M = 3 C = 3\n",
        "\n",
        "    Make the necessary changes that mark the side change from left side to right side.\n",
        "```\n",
        "</center>"
      ],
      "metadata": {
        "id": "e7uW2kToiKsv"
      }
    },
    {
      "cell_type": "markdown",
      "metadata": {
        "id": "IiNzyXCJQog1"
      },
      "source": [
        "The game must go on until you win or lose, so lets put all the conditions inside an infinite loop :\n",
        "\n",
        "- Connect all the segments of the code according to the above structure and do the necessary amendments.\n",
        "- If a move is invalid then without making any changes, you have to `continue`.\n",
        "\n",
        "  This is done so that we get a second chance to change our inputs and start over from the same point without losing previous amendments.\n",
        "\n",
        "- If you Win or Lose the game `break` the loop and get out of it.\n",
        "- Check the winning and losing condition everytime after the boat has travelled.\n",
        "- After getting out of the loop print `Game Over`."
      ]
    },
    {
      "cell_type": "code",
      "metadata": {
        "id": "xUjfSzZuQog1",
        "colab": {
          "base_uri": "https://localhost:8080/"
        },
        "outputId": "872a5a92-6c79-4c8e-fa36-87e9752ae411"
      },
      "source": [
        "  boat_side=\"right\"\n",
        "  missionaries_on_right=3\n",
        "  cannibals_on_right=3\n",
        "  missionaries_on_left=0\n",
        "  cannibals_on_left=0\n",
        "  print('m=',missionaries_on_left,'c=',cannibals_on_left,'|-----B|','m=',missionaries_on_right,'c=',cannibals_on_right)\n",
        "\n",
        "  while True:\n",
        "    missionaries_on_boat=int(input())\n",
        "    cannibals_on_boat=int(input())\n",
        "    if(missionaries_on_boat + cannibals_on_boat<0 or missionaries_on_boat + cannibals_on_boat>2):\n",
        "        print(\"invalid move 1\")\n",
        "        continue\n",
        "\n",
        "    else:\n",
        "\n",
        "      if(boat_side=='right'):\n",
        "        print('right')\n",
        "\n",
        "        if(missionaries_on_boat>missionaries_on_right) or (cannibals_on_boat>cannibals_on_right):\n",
        "          print(\"invalid move 2\")\n",
        "          continue\n",
        "        missionaries_on_right=missionaries_on_right-missionaries_on_boat\n",
        "        cannibals_on_right=cannibals_on_right-cannibals_on_boat\n",
        "        missionaries_on_left=missionaries_on_left+missionaries_on_boat\n",
        "        cannibals_on_left=cannibals_on_left+cannibals_on_boat\n",
        "        print('m=',missionaries_on_left,'c=',cannibals_on_left,'|B-----|','m=',missionaries_on_right,'c',cannibals_on_right)\n",
        "        boat_side='left'\n",
        "\n",
        "\n",
        "\n",
        "      elif(boat_side=='left'):\n",
        "        print('left')\n",
        "        if(missionaries_on_boat>missionaries_on_left) or (cannibals_on_boat>cannibals_on_left):\n",
        "          print(\"invalid move 2\")\n",
        "          continue\n",
        "        missionaries_on_left=missionaries_on_left-missionaries_on_boat\n",
        "        cannibals_on_left=cannibals_on_left-cannibals_on_boat\n",
        "        missionaries_on_right=missionaries_on_right+missionaries_on_boat\n",
        "        cannibals_on_right=cannibals_on_right+cannibals_on_boat\n",
        "        print('m=',missionaries_on_left,'c=',cannibals_on_left,'|-----B|','m=',missionaries_on_right,'c',cannibals_on_right)\n",
        "        boat_side='right'\n",
        "\n",
        "      if(missionaries_on_right<cannibals_on_right and missionaries_on_right>0):\n",
        "        print('You Lose')\n",
        "        break\n",
        "      if(missionaries_on_left<cannibals_on_left and missionaries_on_left>0):\n",
        "        print('You Lose')\n",
        "        break\n",
        "      if(missionaries_on_left==3 and cannibals_on_left==3):\n",
        "        print('You Win')\n",
        "        break\n",
        "\n",
        "\n",
        "\n",
        "\n",
        "\n",
        "\n",
        "\n",
        "\n",
        "\n",
        "\n",
        "\n",
        "\n",
        "\n",
        "\n",
        "\n"
      ],
      "execution_count": null,
      "outputs": [
        {
          "output_type": "stream",
          "name": "stdout",
          "text": [
            "m= 0 c= 0 |-----B| m= 3 c= 3\n",
            "0\n",
            "2\n",
            "right\n",
            "m= 0 c= 2 |B-----| m= 3 c 1\n",
            "0\n",
            "1\n",
            "left\n",
            "m= 0 c= 1 |-----B| m= 3 c 2\n",
            "0\n",
            "2\n",
            "right\n",
            "m= 0 c= 3 |B-----| m= 3 c 0\n",
            "0\n",
            "1\n",
            "left\n",
            "m= 0 c= 2 |-----B| m= 3 c 1\n",
            "2\n",
            "0\n",
            "right\n",
            "m= 2 c= 2 |B-----| m= 1 c 1\n",
            "1\n",
            "1\n",
            "left\n",
            "m= 1 c= 1 |-----B| m= 2 c 2\n",
            "2\n",
            "0\n",
            "right\n",
            "m= 3 c= 1 |B-----| m= 0 c 2\n",
            "0\n",
            "1\n",
            "left\n",
            "m= 3 c= 0 |-----B| m= 0 c 3\n",
            "0\n",
            "2\n",
            "right\n",
            "m= 3 c= 2 |B-----| m= 0 c 1\n",
            "0\n",
            "1\n",
            "left\n",
            "m= 3 c= 1 |-----B| m= 0 c 2\n",
            "0\n",
            "2\n",
            "right\n",
            "m= 3 c= 3 |B-----| m= 0 c 0\n",
            "You Win\n"
          ]
        }
      ]
    },
    {
      "cell_type": "markdown",
      "source": [
        "2"
      ],
      "metadata": {
        "id": "FZHREN7aVHTa"
      }
    },
    {
      "cell_type": "markdown",
      "metadata": {
        "id": "-hIyuzsJQog3"
      },
      "source": [
        "###  Let's make it pretty!\n",
        "\n",
        "#### Clear Screen :\n",
        "- This is a `function` that is utilized to clear the screen after every input statement and helps us to reduce the huge output generated after playing the game built in Lesson 3.\n",
        "  \n",
        "- Copy the following code snippet and paste at the top of your code:\n",
        "\n",
        "  `from IPython.display import clear_output`\n",
        "\n",
        "- Decide its place in the code such that after using it, we should be able to see the changes done after carrying out all the operations of that side and assists us in deciding our next move for the opposite side.\n",
        "\n",
        "  `clear_output()`\n",
        "\n",
        "#### Adding Emoticons :\n",
        "- Use the power of unicodes and emoticons.\n",
        "- Use of string replication.\n",
        "- **Hint :** The unicodes are in string datatype string and display using print function.\n",
        "\n",
        "**The output should look like this after making all the changes**\n",
        "\n",
        "|🌊🌊🌊🌊🌊🚢|💂💂💂👹👹👹\n",
        "<br>\n",
        "After the first move, if we input 1 missionary and 1 cannibal the output will be:\n",
        "\n",
        "💂👹|🌊🌊🌊🌊🌊🚢|💂💂👹👹\n",
        "\n",
        "##### Unicodes\n",
        "💂 = '\\U0001f482'\n",
        "\n",
        "👹 = '\\U0001f479'\n",
        "\n",
        "🌊 = '\\U0001f30a'\n",
        "\n",
        "🚢 = '\\U0001f6A2'"
      ]
    },
    {
      "cell_type": "code",
      "metadata": {
        "id": "Cadm-2d0Qog4",
        "colab": {
          "base_uri": "https://localhost:8080/"
        },
        "outputId": "cdecde28-8d41-4f41-aa60-08b772495055"
      },
      "source": [
        "# Print in extra stylish manner\n",
        "# print('\\U0001f482',missionaries_on_left,'\\U0001f479',cannibals_on_left,'\\U0001f30a''\\U0001f6A2','\\U0001f482',missionaries_on_right,'\\U0001f479',cannibals_on_right)\n",
        "\n",
        "\n",
        "#  print('\\U0001f482',missionaries_on_right,'c=',cannibals_on_right,'|B-----|','m=',missionaries_on_left,'c',cannibals_on_left)\n",
        "\n",
        "      # boat_side='left'\n",
        "\n",
        "\n",
        "# Display the waves emoji for 4 times using string replication\n",
        "### Your code ###\n",
        "m='\\U0001f482'\n",
        "c='\\U0001f479'\n",
        "w= '\\U0001f30a'\n",
        "b= '\\U0001f6A2'\n",
        "\n",
        "print('\\U0001f482'*missionaries_on_left, '\\U0001f479'*cannibals_on_left, '\\U0001f30a'*4, '\\U0001f6A2','\\U0001f482'*missionaries_on_right, '\\U0001f479'*cannibals_on_right)\n",
        "\n",
        "\n",
        "# Display the number of missionaries based on their count on the right side using string replication\n",
        "\n",
        "\n",
        "\n",
        "# Display the number of cannibals based on their count on the right side using string replication\n",
        "### Your code ###\n",
        "\n"
      ],
      "execution_count": null,
      "outputs": [
        {
          "output_type": "stream",
          "name": "stdout",
          "text": [
            "💂💂💂 👹👹👹 🌊🌊🌊🌊 🚢  \n"
          ]
        }
      ]
    },
    {
      "cell_type": "markdown",
      "metadata": {
        "id": "WpcPEa3JQog4"
      },
      "source": [
        "### <center>**Complete Code**</center>\n"
      ]
    },
    {
      "cell_type": "code",
      "source": [
        "\n",
        "boat_side=\"right\"\n",
        "missionaries_on_right=3\n",
        "cannibals_on_right=3\n",
        "missionaries_on_left=0\n",
        "cannibals_on_left=0\n",
        "\n",
        "print('\\U0001f482'*missionaries_on_left, '\\U0001f479'*cannibals_on_left, '\\U0001f30a'*4, '\\U0001f6A2','\\U0001f482'*missionaries_on_right, '\\U0001f479'*cannibals_on_right)\n",
        "while True:\n",
        "      missionaries_on_boat=int(input())\n",
        "      cannibals_on_boat=int(input())\n",
        "      if(missionaries_on_boat + cannibals_on_boat<0 or missionaries_on_boat + cannibals_on_boat>2):\n",
        "          print(\"invalid move 1\")\n",
        "          continue\n",
        "\n",
        "      else:\n",
        "\n",
        "        if(boat_side=='right'):\n",
        "          print('right')\n",
        "\n",
        "          if(missionaries_on_boat>missionaries_on_right) or (cannibals_on_boat>cannibals_on_right):\n",
        "            print(\"invalid move 2\")\n",
        "            continue\n",
        "          missionaries_on_right=missionaries_on_right-missionaries_on_boat\n",
        "          cannibals_on_right=cannibals_on_right-cannibals_on_boat\n",
        "          missionaries_on_left=missionaries_on_left+missionaries_on_boat\n",
        "          cannibals_on_left=cannibals_on_left+cannibals_on_boat\n",
        "          print('\\U0001f482'*missionaries_on_left, '\\U0001f479'*cannibals_on_left, '\\U0001f30a'*4, '\\U0001f6A2','\\U0001f482'*missionaries_on_right, '\\U0001f479'*cannibals_on_right)\n",
        "          boat_side='left'\n",
        "\n",
        "\n",
        "\n",
        "        elif(boat_side=='left'):\n",
        "          print('left')\n",
        "          if(missionaries_on_boat>missionaries_on_left) or (cannibals_on_boat>cannibals_on_left):\n",
        "            print(\"invalid move 2\")\n",
        "            continue\n",
        "          missionaries_on_left=missionaries_on_left-missionaries_on_boat\n",
        "          cannibals_on_left=cannibals_on_left-cannibals_on_boat\n",
        "          missionaries_on_right=missionaries_on_right+missionaries_on_boat\n",
        "          cannibals_on_right=cannibals_on_right+cannibals_on_boat\n",
        "          print(print('\\U0001f482'*missionaries_on_left, '\\U0001f479'*cannibals_on_left, '\\U0001f30a'*4, '\\U0001f6A2','\\U0001f482'*missionaries_on_right, '\\U0001f479'*cannibals_on_right))\n",
        "          boat_side='right'\n",
        "\n",
        "        if(missionaries_on_right<cannibals_on_right and missionaries_on_right>0):\n",
        "          print('You Lose')\n",
        "          break\n",
        "        if(missionaries_on_left<cannibals_on_left and missionaries_on_left>0):\n",
        "          print('You Lose')\n",
        "          break\n",
        "        if(missionaries_on_left==3 and cannibals_on_left==3):\n",
        "          print('You Win')\n",
        "          break\n"
      ],
      "metadata": {
        "id": "ET8viXLG0e2K",
        "colab": {
          "base_uri": "https://localhost:8080/"
        },
        "outputId": "a4af5e35-40f1-4866-8c01-c8be015472e6"
      },
      "execution_count": null,
      "outputs": [
        {
          "output_type": "stream",
          "name": "stdout",
          "text": [
            "  🌊🌊🌊🌊 🚢 💂💂💂 👹👹👹\n",
            "0\n",
            "2\n",
            "right\n",
            " 👹👹 🌊🌊🌊🌊 🚢 💂💂💂 👹\n",
            "0\n",
            "1\n",
            "left\n",
            " 👹 🌊🌊🌊🌊 🚢 💂💂💂 👹👹\n",
            "None\n",
            "0\n",
            "2\n",
            "right\n",
            " 👹👹👹 🌊🌊🌊🌊 🚢 💂💂💂 \n",
            "0\n",
            "1\n",
            "left\n",
            " 👹👹 🌊🌊🌊🌊 🚢 💂💂💂 👹\n",
            "None\n",
            "2\n",
            "0\n",
            "right\n",
            "💂💂 👹👹 🌊🌊🌊🌊 🚢 💂 👹\n",
            "1\n",
            "1\n",
            "left\n",
            "💂 👹 🌊🌊🌊🌊 🚢 💂💂 👹👹\n",
            "None\n",
            "2\n",
            "0\n",
            "right\n",
            "💂💂💂 👹 🌊🌊🌊🌊 🚢  👹👹\n",
            "0\n",
            "1\n",
            "left\n",
            "💂💂💂  🌊🌊🌊🌊 🚢  👹👹👹\n",
            "None\n",
            "0\n",
            "2\n",
            "right\n",
            "💂💂💂 👹👹 🌊🌊🌊🌊 🚢  👹\n",
            "0\n",
            "1\n",
            "left\n",
            "💂💂💂 👹 🌊🌊🌊🌊 🚢  👹👹\n",
            "None\n",
            "0\n",
            "2\n",
            "right\n",
            "💂💂💂 👹👹👹 🌊🌊🌊🌊 🚢  \n",
            "You Win\n"
          ]
        }
      ]
    },
    {
      "cell_type": "markdown",
      "source": [
        "# <center>Happy Learning!</center>"
      ],
      "metadata": {
        "id": "VDdKbLpalpUS"
      }
    }
  ]
}